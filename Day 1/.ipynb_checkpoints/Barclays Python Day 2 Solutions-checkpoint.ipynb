{
 "cells": [
  {
   "cell_type": "markdown",
   "metadata": {
    "colab_type": "text",
    "id": "88tCXKMAp2FX"
   },
   "source": [
    "#  Barclays x GA: Python Day 1 Solutions\n",
    "---"
   ]
  },
  {
   "cell_type": "markdown",
   "metadata": {},
   "source": [
    "---\n",
    "\n",
    "## <font color='red'> Exercise: Writing functions\n",
    "\n",
    "Let's write a function to calculate the final value of an investment that's accruing compound interest.\n",
    "\n",
    "This is described by the formula:\n",
    "\n",
    "$$TV = PV(1+r)^n$$\n",
    "\n",
    "Where\n",
    "\n",
    "$TV$ is the final value of the investment\n",
    "\n",
    "$PV$ is the initial investment\n",
    "\n",
    "$r$ is the interest rate per year \n",
    "\n",
    "$n$ is the number of years\n",
    "\n",
    "1. Write a function that computes the final value of an investment, given the initial investment, interest rate, and number of years."
   ]
  },
  {
   "cell_type": "code",
   "execution_count": 53,
   "metadata": {},
   "outputs": [],
   "source": [
    "def compound_interest(PV, r, n):\n",
    "    \n",
    "    TV = PV*(1+r)**n\n",
    "    \n",
    "    return TV"
   ]
  },
  {
   "cell_type": "markdown",
   "metadata": {},
   "source": [
    "2. Use your function to compute the final value of a £130 investment, assuming an interest rate of 3% over 5 years."
   ]
  },
  {
   "cell_type": "code",
   "execution_count": 55,
   "metadata": {},
   "outputs": [
    {
     "data": {
      "text/plain": [
       "150.705629659"
      ]
     },
     "execution_count": 55,
     "metadata": {},
     "output_type": "execute_result"
    }
   ],
   "source": [
    "TV = compound_interest(130,0.03,5)\n",
    "TV"
   ]
  },
  {
   "cell_type": "markdown",
   "metadata": {},
   "source": [
    "3. Write a function that computes the number of years needed for an investment reach a given multiple of its initial value, also given the interest rate. (**hint: you'll need to rearrange the formula to make $n$ the subject**, and you'll need the ``math`` library)"
   ]
  },
  {
   "cell_type": "markdown",
   "metadata": {},
   "source": [
    "We start by rearranging the formula:\n",
    "\n",
    "$$\\dfrac{TV}{PV} = (1+r)^n$$\n",
    "\n",
    "We can redefine $\\dfrac{TV}{PV}$ as our 'multiple'; that is, how many times greater the final value of our investment is compared to the initial value.\n",
    "\n",
    "$$multiple = (1+r)^n$$\n",
    "\n",
    "We can take logs of both sides to deal with $n$\n",
    "\n",
    "$$log\\:multiple = nlog(1+r)$$\n",
    "\n",
    "We can rearrange some more to make $n$ the subject:\n",
    "\n",
    "$$n=\\dfrac{log\\:multiple}{log(1+r)}$$\n",
    "\n",
    "Now we have our formula for the number of years needed for an investment to reach a given multiple of its initial value, we can code it up in Python: "
   ]
  },
  {
   "cell_type": "code",
   "execution_count": 56,
   "metadata": {},
   "outputs": [],
   "source": [
    "import math\n",
    "\n",
    "def get_years(multiple,r):\n",
    "    \n",
    "    n = math.log(multiple)/math.log(1+r)\n",
    "    \n",
    "    return n"
   ]
  },
  {
   "cell_type": "markdown",
   "metadata": {},
   "source": [
    "4. Use your function to work out how many years are needed for an investment to double in value, assuming an interest rate of 0.01%"
   ]
  },
  {
   "cell_type": "code",
   "execution_count": 57,
   "metadata": {},
   "outputs": [
    {
     "data": {
      "text/plain": [
       "69.66071689357483"
      ]
     },
     "execution_count": 57,
     "metadata": {},
     "output_type": "execute_result"
    }
   ],
   "source": [
    "n = get_years(2,0.01)\n",
    "n"
   ]
  },
  {
   "cell_type": "markdown",
   "metadata": {},
   "source": [
    "#### ---\n",
    "\n",
    "## <font color='red'> Exercise: Logical tests\n",
    "\n",
    "Predict what the outcomes of these logical tests will be, then run the cells to check your predictions."
   ]
  },
  {
   "cell_type": "code",
   "execution_count": 58,
   "metadata": {},
   "outputs": [
    {
     "data": {
      "text/plain": [
       "False"
      ]
     },
     "execution_count": 58,
     "metadata": {},
     "output_type": "execute_result"
    }
   ],
   "source": [
    "(6 <= 6) and (5 < 3)\n",
    "\n",
    "# True and False -> False"
   ]
  },
  {
   "cell_type": "code",
   "execution_count": 59,
   "metadata": {},
   "outputs": [
    {
     "data": {
      "text/plain": [
       "False"
      ]
     },
     "execution_count": 59,
     "metadata": {},
     "output_type": "execute_result"
    }
   ],
   "source": [
    "3 < 2 or 45 % 3 == 15\n",
    "\n",
    "# False or False -> False"
   ]
  },
  {
   "cell_type": "code",
   "execution_count": 61,
   "metadata": {},
   "outputs": [
    {
     "data": {
      "text/plain": [
       "False"
      ]
     },
     "execution_count": 61,
     "metadata": {},
     "output_type": "execute_result"
    }
   ],
   "source": [
    "60 - 45 / 5 + 10 == 1"
   ]
  },
  {
   "cell_type": "code",
   "execution_count": 62,
   "metadata": {},
   "outputs": [
    {
     "data": {
      "text/plain": [
       "True"
      ]
     },
     "execution_count": 62,
     "metadata": {},
     "output_type": "execute_result"
    }
   ],
   "source": [
    "(6 <= 6) or (5 < 3)\n",
    "\n",
    "# True or False -> True"
   ]
  },
  {
   "cell_type": "code",
   "execution_count": 63,
   "metadata": {},
   "outputs": [
    {
     "data": {
      "text/plain": [
       "True"
      ]
     },
     "execution_count": 63,
     "metadata": {},
     "output_type": "execute_result"
    }
   ],
   "source": [
    "(5 < 3) and (6 <= 6) or (5 != 6)\n",
    "\n",
    "# (False and True) or True -> True"
   ]
  },
  {
   "cell_type": "code",
   "execution_count": 65,
   "metadata": {},
   "outputs": [
    {
     "data": {
      "text/plain": [
       "True"
      ]
     },
     "execution_count": 65,
     "metadata": {},
     "output_type": "execute_result"
    }
   ],
   "source": [
    "not((5 < 3) and ((6 <= 6) or (5 != 6)))\n",
    "\n",
    "# False and (True or True) -> False\n",
    "# not False -> True"
   ]
  },
  {
   "cell_type": "markdown",
   "metadata": {},
   "source": [
    "---\n",
    "\n",
    "## <font color='red'> Exercise: Odd or even?\n",
    "    \n",
    "Write a function called ``odd_or_even``. It should take a single integer as an input.\n",
    "\n",
    "If the integer is even, the output of the function should be the string \"even!\" and if the integer is odd, the output should be \"odd!\"\n",
    "\n",
    "To do this, you will need to use the ``%`` operator.\n",
    "    "
   ]
  },
  {
   "cell_type": "code",
   "execution_count": 69,
   "metadata": {},
   "outputs": [],
   "source": [
    "def odd_or_even(number):\n",
    "    \n",
    "    if number%2==0:\n",
    "        print('even!')\n",
    "    else:\n",
    "        print('odd!')"
   ]
  },
  {
   "cell_type": "code",
   "execution_count": 70,
   "metadata": {},
   "outputs": [
    {
     "name": "stdout",
     "output_type": "stream",
     "text": [
      "odd!\n"
     ]
    }
   ],
   "source": [
    "odd_or_even(1)"
   ]
  },
  {
   "cell_type": "code",
   "execution_count": 71,
   "metadata": {},
   "outputs": [
    {
     "name": "stdout",
     "output_type": "stream",
     "text": [
      "even!\n"
     ]
    }
   ],
   "source": [
    "odd_or_even(4)"
   ]
  },
  {
   "cell_type": "markdown",
   "metadata": {},
   "source": [
    "---\n",
    "## <font color='red'> Exercise: FizzBuzz\n",
    "\n",
    "Use a ``for`` loop together with the ``range`` function to print all the whole numbers from 1 to 100. \n",
    "\n",
    "But for multiples of three print \"Fizz\" instead of the number and for the multiples of five print \"Buzz\". \n",
    "\n",
    "For numbers which are multiples of both three and five print \"FizzBuzz\".\n",
    "\n",
    "**For context**: The ``fizzbuzz`` question is well known as an exercise used in programming interviews. It was devised by Imran Ghory, and popularised by Jeff Atwood: \n",
    "\n",
    "https://imranontech.com/2007/01/24/using-fizzbuzz-to-find-developers-who-grok-coding/ \n",
    "\n",
    "---"
   ]
  },
  {
   "cell_type": "code",
   "execution_count": 72,
   "metadata": {
    "scrolled": true
   },
   "outputs": [
    {
     "name": "stdout",
     "output_type": "stream",
     "text": [
      "1\n",
      "2\n",
      "fizz\n",
      "4\n",
      "buzz\n",
      "fizz\n",
      "7\n",
      "8\n",
      "fizz\n",
      "buzz\n",
      "11\n",
      "fizz\n",
      "13\n",
      "14\n",
      "fizzbuzz\n",
      "16\n",
      "17\n",
      "fizz\n",
      "19\n",
      "buzz\n",
      "fizz\n",
      "22\n",
      "23\n",
      "fizz\n",
      "buzz\n",
      "26\n",
      "fizz\n",
      "28\n",
      "29\n",
      "fizzbuzz\n",
      "31\n",
      "32\n",
      "fizz\n",
      "34\n",
      "buzz\n",
      "fizz\n",
      "37\n",
      "38\n",
      "fizz\n",
      "buzz\n",
      "41\n",
      "fizz\n",
      "43\n",
      "44\n",
      "fizzbuzz\n",
      "46\n",
      "47\n",
      "fizz\n",
      "49\n",
      "buzz\n",
      "fizz\n",
      "52\n",
      "53\n",
      "fizz\n",
      "buzz\n",
      "56\n",
      "fizz\n",
      "58\n",
      "59\n",
      "fizzbuzz\n",
      "61\n",
      "62\n",
      "fizz\n",
      "64\n",
      "buzz\n",
      "fizz\n",
      "67\n",
      "68\n",
      "fizz\n",
      "buzz\n",
      "71\n",
      "fizz\n",
      "73\n",
      "74\n",
      "fizzbuzz\n",
      "76\n",
      "77\n",
      "fizz\n",
      "79\n",
      "buzz\n",
      "fizz\n",
      "82\n",
      "83\n",
      "fizz\n",
      "buzz\n",
      "86\n",
      "fizz\n",
      "88\n",
      "89\n",
      "fizzbuzz\n",
      "91\n",
      "92\n",
      "fizz\n",
      "94\n",
      "buzz\n",
      "fizz\n",
      "97\n",
      "98\n",
      "fizz\n",
      "buzz\n"
     ]
    }
   ],
   "source": [
    "for i in range(1,101):\n",
    "    \n",
    "    if (i%3==0) and (i%5==0):\n",
    "        print('fizzbuzz')\n",
    "    elif (i%5==0):\n",
    "        print('buzz')\n",
    "    elif (i%3==0):\n",
    "        print('fizz')\n",
    "    else:\n",
    "        print(i)"
   ]
  },
  {
   "cell_type": "markdown",
   "metadata": {},
   "source": [
    "---\n",
    "## <font color='red'> Exercise: Compound interest (again)\n",
    "    \n",
    "Let's go back to our compound interest formula:\n",
    "\n",
    "$$TV = PV(1+r)^n$$\n",
    "\n",
    "Where\n",
    "\n",
    "$TV$ is the final value of the investment\n",
    "\n",
    "$PV$ is the initial investment\n",
    "\n",
    "$r$ is the interest rate per year \n",
    "\n",
    "$n$ is the number of years\n",
    "\n",
    "Suppose we'd like to know for how many years we have to keep 100 pounds on a savings account to reach 200 pounds simply due to annual payment of interest at a rate of 5%. Write code using a ``while`` loop to show that this will take 15 years.\n",
    "\n",
    "---"
   ]
  },
  {
   "cell_type": "code",
   "execution_count": 84,
   "metadata": {
    "scrolled": true
   },
   "outputs": [
    {
     "name": "stdout",
     "output_type": "stream",
     "text": [
      "after  1  years the value of the investment will be  105.0\n",
      "after  2  years the value of the investment will be  110.25\n",
      "after  3  years the value of the investment will be  115.76250000000002\n",
      "after  4  years the value of the investment will be  121.55062500000003\n",
      "after  5  years the value of the investment will be  127.62815625000003\n",
      "after  6  years the value of the investment will be  134.00956406250003\n",
      "after  7  years the value of the investment will be  140.71004226562505\n",
      "after  8  years the value of the investment will be  147.7455443789063\n",
      "after  9  years the value of the investment will be  155.13282159785163\n",
      "after  10  years the value of the investment will be  162.8894626777442\n",
      "after  11  years the value of the investment will be  171.0339358116314\n",
      "after  12  years the value of the investment will be  179.585632602213\n",
      "after  13  years the value of the investment will be  188.56491423232367\n",
      "after  14  years the value of the investment will be  197.99315994393987\n",
      "after  15  years the value of the investment will be  207.89281794113688\n"
     ]
    }
   ],
   "source": [
    "PV = 100\n",
    "TV = 100\n",
    "n = 1\n",
    "r = 0.05\n",
    "\n",
    "while(TV<200):\n",
    "\n",
    "    TV = PV*(1+r)**n\n",
    "    print(\"after \",str(n),\" years the value of the investment will be \", str(TV))\n",
    "    n = n+1\n",
    "    "
   ]
  },
  {
   "cell_type": "markdown",
   "metadata": {},
   "source": [
    "---"
   ]
  },
  {
   "cell_type": "markdown",
   "metadata": {},
   "source": [
    "## <font color='red'> Exercise: Can I get a mortgage?\n",
    "\n",
    "Write a function to help house buyers understand if they can afford a mortgage for the property they want. \n",
    "\n",
    "The inputs to the function should be:\n",
    "* The buyers' total income\n",
    "* The price of the property they want to buy\n",
    "* The size of their deposit\n",
    "\n",
    "Assume that a bank will only grant them a mortgage under the following conditions:\n",
    "* The deposit must be at least 10% of the purchase price\n",
    "* The mortgage can be a maximum of 4.5x the buyers' total income \n",
    "\n",
    "The outputs from the function should be a string that explains whether the buyer can afford the property or not. "
   ]
  },
  {
   "cell_type": "code",
   "execution_count": 3,
   "metadata": {},
   "outputs": [],
   "source": [
    "def mortgage_calculator(buyer_salary,deposit_size,property_price):\n",
    "    \n",
    "    mortgage_size = property_price-deposit_size\n",
    "    deposit_percentage = 100*deposit_size/property_price\n",
    "    \n",
    "    if (deposit_percentage>=10) and (mortgage_size<=4.5*buyer_salary):\n",
    "        print('You can afford this property!')\n",
    "        \n",
    "    else:\n",
    "        print('Sorry, you can\\'t afford this property. Your deposit needs to be larger or your income needs to be higher')\n",
    "        \n",
    "\n",
    "    "
   ]
  },
  {
   "cell_type": "markdown",
   "metadata": {},
   "source": [
    "Once you've written your function, test it out on these case studies and record your results:\n",
    "\n",
    "1. Jamila earns £25,000 as a trainee teacher. She's found a flat in Newcastle she loves for £160,000. She has a £25,000 deposit saved up. Can she afford this flat?"
   ]
  },
  {
   "cell_type": "code",
   "execution_count": 4,
   "metadata": {},
   "outputs": [
    {
     "name": "stdout",
     "output_type": "stream",
     "text": [
      "Sorry, you can't afford this property. Your deposit needs to be larger or your income needs to be higher\n"
     ]
    }
   ],
   "source": [
    "mortgage_calculator(25000,25000,160000)"
   ]
  },
  {
   "cell_type": "markdown",
   "metadata": {},
   "source": [
    "2. James earns £60,000 as a software developer and Christopher earns £80,000 as a lawyer. They've found a flat in London for £500,000. With a £50,000 deposit, will they be able to afford this flat?"
   ]
  },
  {
   "cell_type": "code",
   "execution_count": 5,
   "metadata": {},
   "outputs": [
    {
     "name": "stdout",
     "output_type": "stream",
     "text": [
      "You can afford this property!\n"
     ]
    }
   ],
   "source": [
    "mortgage_calculator(140000,50000,500000)"
   ]
  }
 ],
 "metadata": {
  "colab": {
   "name": "intro_to_python.ipynb",
   "provenance": []
  },
  "kernelspec": {
   "display_name": "Python 3",
   "language": "python",
   "name": "python3"
  },
  "language_info": {
   "codemirror_mode": {
    "name": "ipython",
    "version": 3
   },
   "file_extension": ".py",
   "mimetype": "text/x-python",
   "name": "python",
   "nbconvert_exporter": "python",
   "pygments_lexer": "ipython3",
   "version": "3.7.4"
  }
 },
 "nbformat": 4,
 "nbformat_minor": 1
}
