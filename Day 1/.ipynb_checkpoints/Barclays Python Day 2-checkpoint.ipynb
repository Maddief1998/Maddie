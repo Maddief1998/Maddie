{
 "cells": [
  {
   "cell_type": "markdown",
   "metadata": {
    "colab_type": "text",
    "id": "88tCXKMAp2FX"
   },
   "source": [
    "#  Barclays x GA: Python Day 2\n",
    "\n",
    "---"
   ]
  },
  {
   "cell_type": "markdown",
   "metadata": {
    "colab_type": "text",
    "id": "3NyAoZKZp2FZ"
   },
   "source": [
    "<a id=\"learning-objectives\"></a>\n",
    "## Learning Objectives\n",
    "*After completing this notebook, you will be able to:*\n",
    "\n",
    "- Write functions\n",
    "- Understand simple Boolean logic\n",
    "- Use loops and if statements"
   ]
  },
  {
   "cell_type": "markdown",
   "metadata": {
    "colab_type": "text",
    "id": "wzq3TuChp2Fa"
   },
   "source": [
    "## Contents:\n",
    "* [Functions](#functions)\n",
    "* [If Statements, For and While Loops](#loops)\n",
    "    * [Boolean logic](#bool)\n",
    "    * [If/Else/Elif Statements](#if)\n",
    "    * [For loops](#for)\n",
    "    * [While loops](#while)"
   ]
  },
  {
   "cell_type": "markdown",
   "metadata": {},
   "source": [
    "<a id=\"functions\"></a>\n",
    "# <font color='blue'> Functions\n",
    "    \n",
    "Functions in programming are a lot like mathematical functions. \n",
    "\n",
    "They take one or more inputs, do something to those inputs and then return one or more outputs.\n",
    "\n",
    "In Python, there are built in functions (like ``print``) and library functions (like ``math.sqrt``), but we can also write our own functions to perform more specialised tasks.\n",
    "\n",
    "You can think of writing a function as being similar to building a machine that takes inputs, transforms them, and gives you outputs. \n",
    "\n",
    "A function has to be defined first, and then called- just like a machine has to be built before you can use it.\n",
    "\n",
    "The syntax and structure to define a function must include:\n",
    "\n",
    "* The def keyword, followed by the function’s name\n",
    "* The arguments of the function are given between parentheses followed by a colon\n",
    "* The function body, correctly indented\n",
    "* Optionally, the return statement\n",
    "\n",
    "We can define a simple function to square a number as follows."
   ]
  },
  {
   "cell_type": "code",
   "execution_count": null,
   "metadata": {},
   "outputs": [],
   "source": [
    "def square(x):\n",
    "    return x**2"
   ]
  },
  {
   "cell_type": "markdown",
   "metadata": {},
   "source": [
    "Defining the function can be thought of as 'building the machine'. Now our machine is built, we can use it with our own inputs.\n",
    "\n",
    "We can feed inputs directly into the function, and the output will be whatever is in the ``return`` statement."
   ]
  },
  {
   "cell_type": "code",
   "execution_count": null,
   "metadata": {},
   "outputs": [],
   "source": [
    "square(-1)"
   ]
  },
  {
   "cell_type": "markdown",
   "metadata": {},
   "source": [
    "Or we can declare the inputs as variables, and then feed them into the function."
   ]
  },
  {
   "cell_type": "code",
   "execution_count": null,
   "metadata": {},
   "outputs": [],
   "source": [
    "x = 5\n",
    "square(x)"
   ]
  },
  {
   "cell_type": "markdown",
   "metadata": {},
   "source": [
    "This works regardless of what variable name we give our inputs. The ``x`` in our function definition is just a placeholder."
   ]
  },
  {
   "cell_type": "code",
   "execution_count": null,
   "metadata": {},
   "outputs": [],
   "source": [
    "y = 6\n",
    "square(y)"
   ]
  },
  {
   "cell_type": "markdown",
   "metadata": {},
   "source": [
    "We can also assign the output of a function to a variable. The variable will take the value of whatever is in the return statement of our function."
   ]
  },
  {
   "cell_type": "code",
   "execution_count": null,
   "metadata": {},
   "outputs": [],
   "source": [
    "y = 6\n",
    "squared_number = square(y)\n",
    "print(squared_number)"
   ]
  },
  {
   "cell_type": "markdown",
   "metadata": {},
   "source": [
    "We can't access the value of anything in our function that isn't part of the ``return`` statement. All variable names inside a function are **internal to that function** and won't be recognised outside the function unless they're part of the ``return`` statement.\n",
    "\n",
    "\n",
    "A function stops running as soon as it hits a ``return`` statement, so ``return`` should always be in the last line of your function; anything below this won't be executed."
   ]
  },
  {
   "cell_type": "code",
   "execution_count": null,
   "metadata": {},
   "outputs": [],
   "source": [
    "def number_powers(z):\n",
    "    \n",
    "    squared = z**2\n",
    "    cubed = z**3\n",
    "    \n",
    "    return squared"
   ]
  },
  {
   "cell_type": "code",
   "execution_count": null,
   "metadata": {},
   "outputs": [],
   "source": [
    "number_powers_result = number_powers(2)\n",
    "number_powers_result"
   ]
  },
  {
   "cell_type": "markdown",
   "metadata": {},
   "source": [
    "If we want the function to return ``cubed`` as well as squared, we need to add it to the ``return`` statement."
   ]
  },
  {
   "cell_type": "code",
   "execution_count": null,
   "metadata": {},
   "outputs": [],
   "source": [
    "def number_powers(z):\n",
    "    \n",
    "    squared = z**2\n",
    "    cubed = z**3\n",
    "    \n",
    "    return squared, cubed"
   ]
  },
  {
   "cell_type": "markdown",
   "metadata": {},
   "source": [
    "Functions can have multiple inputs and multiple outputs. Just make sure the inputs are inside the round brackets in the first line of the ``def`` statement, and all outputs are part of the ``return`` statement."
   ]
  },
  {
   "cell_type": "code",
   "execution_count": null,
   "metadata": {},
   "outputs": [],
   "source": [
    "def add_three_numbers(a,b,c):\n",
    "    \n",
    "    sum_1 = a+b\n",
    "    sum_2 = a+c\n",
    "    sum_3 = b+c\n",
    "    \n",
    "    return sum_1, sum_2, sum_3"
   ]
  },
  {
   "cell_type": "code",
   "execution_count": null,
   "metadata": {},
   "outputs": [],
   "source": [
    "add_three_numbers(5,6,7)"
   ]
  },
  {
   "cell_type": "markdown",
   "metadata": {},
   "source": [
    "It's also possible to have a function without a ``return`` statement. This means a variable won't be explicitly returned by the function, but we can still view the results of the calculations inside the function using ``print`` statements."
   ]
  },
  {
   "cell_type": "code",
   "execution_count": null,
   "metadata": {},
   "outputs": [],
   "source": [
    "def multiply_three_numbers(a,b,c):\n",
    "    \n",
    "    multiply_1 = a*b\n",
    "    multiply_2 = a*c\n",
    "    multiply_3 = b*c\n",
    "    \n",
    "    print(multiply_1,multiply_2,multiply_3)"
   ]
  },
  {
   "cell_type": "code",
   "execution_count": null,
   "metadata": {},
   "outputs": [],
   "source": [
    "result_1, result_2, result_3 = multiply_three_numbers(3,4,5)"
   ]
  },
  {
   "cell_type": "markdown",
   "metadata": {},
   "source": [
    "---\n",
    "\n",
    "## <font color='red'> Exercise: Writing functions\n",
    "\n",
    "Let's write a function to calculate the final value of an investment that's accruing compound interest.\n",
    "\n",
    "This is described by the formula:\n",
    "\n",
    "$$TV = PV(1+r)^n$$\n",
    "\n",
    "Where\n",
    "\n",
    "$TV$ is the final value of the investment\n",
    "\n",
    "$PV$ is the initial investment\n",
    "\n",
    "$r$ is the interest rate per year \n",
    "\n",
    "$n$ is the number of years\n",
    "\n",
    "1. Write a function that computes the final value of an investment, given the initial investment, interest rate, and number of years.\n",
    "\n",
    "\n",
    "2. Use your function to compute the final value of a £130 investment, assuming an interest rate of 3% over 5 years.\n",
    "\n",
    "***Bonus***\n",
    "\n",
    "3. Write a function that computes the number of years needed for an investment reach a given multiple of its initial value, also given the interest rate. (**hint: you'll need to rearrange the formula to make $n$ the subject**, and you'll need the ``math`` library)\n",
    "\n",
    "\n",
    "4. Use your function to work out how many years are needed for an investment to double in value, assuming an interest rate of 0.01%"
   ]
  },
  {
   "cell_type": "code",
   "execution_count": null,
   "metadata": {},
   "outputs": [],
   "source": []
  },
  {
   "cell_type": "markdown",
   "metadata": {},
   "source": [
    "---\n",
    "<a id=\"loops\"></a>\n",
    "# <font color='blue'> Boolean logic, Loops and If Statements\n",
    "    \n",
    "<a id=\"bool\"></a>\n",
    "## Boolean logic\n",
    "\n",
    "Boolean logic allows us to test whether a statement is true or false.\n",
    "\n",
    "The results of a Boolean logical test is always either ``True`` or ``False``; these two values have their own special type, the ``bool`` or Boolean type."
   ]
  },
  {
   "cell_type": "code",
   "execution_count": null,
   "metadata": {},
   "outputs": [],
   "source": [
    "type(True)"
   ]
  },
  {
   "cell_type": "code",
   "execution_count": null,
   "metadata": {},
   "outputs": [],
   "source": [
    "type(False)"
   ]
  },
  {
   "cell_type": "markdown",
   "metadata": {},
   "source": [
    "Some examples of logical tests are shown below. Just like we can use arithmetic operators (``+``, ``-`` etc) to perform calculations, Boolean logic has its own set of operators to perform logical tests:"
   ]
  },
  {
   "cell_type": "markdown",
   "metadata": {},
   "source": [
    "**Equal to**"
   ]
  },
  {
   "cell_type": "code",
   "execution_count": null,
   "metadata": {
    "scrolled": false
   },
   "outputs": [],
   "source": [
    "6==10 "
   ]
  },
  {
   "cell_type": "markdown",
   "metadata": {},
   "source": [
    "**Greater than**"
   ]
  },
  {
   "cell_type": "code",
   "execution_count": null,
   "metadata": {
    "scrolled": false
   },
   "outputs": [],
   "source": [
    "6 > 10"
   ]
  },
  {
   "cell_type": "markdown",
   "metadata": {},
   "source": [
    "**Less than**"
   ]
  },
  {
   "cell_type": "code",
   "execution_count": null,
   "metadata": {
    "scrolled": false
   },
   "outputs": [],
   "source": [
    "6 < 10"
   ]
  },
  {
   "cell_type": "markdown",
   "metadata": {},
   "source": [
    "**Not equal to**"
   ]
  },
  {
   "cell_type": "code",
   "execution_count": null,
   "metadata": {
    "scrolled": false
   },
   "outputs": [],
   "source": [
    "6 != 10"
   ]
  },
  {
   "cell_type": "markdown",
   "metadata": {},
   "source": [
    "**Greater than or equal to**"
   ]
  },
  {
   "cell_type": "code",
   "execution_count": null,
   "metadata": {
    "scrolled": false
   },
   "outputs": [],
   "source": [
    "3 >= 4"
   ]
  },
  {
   "cell_type": "markdown",
   "metadata": {},
   "source": [
    "**Less than or equal to**"
   ]
  },
  {
   "cell_type": "code",
   "execution_count": null,
   "metadata": {
    "scrolled": true
   },
   "outputs": [],
   "source": [
    "4 <= 4"
   ]
  },
  {
   "cell_type": "markdown",
   "metadata": {},
   "source": [
    "## The ``and``, ``or`` and ``not`` operators\n",
    "\n",
    "These three operators can be used to compare and combine the results of more than one logical test. The results of an ``and``, ``or``, or ``not`` operation is also a Boolean; that is, ``True`` or ``False``.\n",
    "\n",
    "### The ``and`` operator\n",
    "\n",
    "The result of an ``and`` operation is ``True`` if **both inputs** are ``True``, and ``False`` otherwise.\n",
    "\n",
    "``True`` **and** ``True`` $\\longrightarrow$ ``True``\n",
    "\n",
    "\n",
    "``True`` **and** ``False`` $\\longrightarrow$ ``False``\n",
    "\n",
    "\n",
    "``False`` **and** ``True`` $\\longrightarrow$ ``False``\n",
    "\n",
    "\n",
    "``False`` **and** ``False`` $\\longrightarrow$ ``False``\n"
   ]
  },
  {
   "cell_type": "code",
   "execution_count": null,
   "metadata": {
    "scrolled": false
   },
   "outputs": [],
   "source": [
    "6<10 and 5>2\n",
    "#True and True"
   ]
  },
  {
   "cell_type": "code",
   "execution_count": null,
   "metadata": {
    "scrolled": false
   },
   "outputs": [],
   "source": [
    "6<10 and 5<2\n",
    "#True and False"
   ]
  },
  {
   "cell_type": "code",
   "execution_count": null,
   "metadata": {
    "scrolled": false
   },
   "outputs": [],
   "source": [
    "6==10 and 5<2\n",
    "#False and False"
   ]
  },
  {
   "cell_type": "markdown",
   "metadata": {},
   "source": [
    "### The ``or`` operator\n",
    "\n",
    "The result of an ``or`` operation is ``True`` if **either or both inputs** are ``True``, and ``False`` otherwise.\n",
    "\n",
    "\n",
    "``True`` **or** ``True`` $\\longrightarrow$ ``True``\n",
    "\n",
    "\n",
    "``True`` **or** ``False`` $\\longrightarrow$ ``True``\n",
    "\n",
    "\n",
    "``False`` **or** ``True`` $\\longrightarrow$ ``True``\n",
    "\n",
    "\n",
    "``False`` **or** ``False`` $\\longrightarrow$ ``False``"
   ]
  },
  {
   "cell_type": "code",
   "execution_count": null,
   "metadata": {
    "scrolled": false
   },
   "outputs": [],
   "source": [
    "6<10 or 5>2"
   ]
  },
  {
   "cell_type": "code",
   "execution_count": null,
   "metadata": {
    "scrolled": false
   },
   "outputs": [],
   "source": [
    "6<10 or 5<2"
   ]
  },
  {
   "cell_type": "code",
   "execution_count": null,
   "metadata": {
    "scrolled": false
   },
   "outputs": [],
   "source": [
    "6==10 or 5<2"
   ]
  },
  {
   "cell_type": "markdown",
   "metadata": {},
   "source": [
    "### The ``not`` operator\n",
    "\n",
    "A ``not`` operation takes the result of a logical test and flips it.\n",
    "\n",
    "**not** ``True`` $\\longrightarrow$ ``False``\n",
    "\n",
    "**not** ``False`` $\\longrightarrow$ ``True``"
   ]
  },
  {
   "cell_type": "code",
   "execution_count": null,
   "metadata": {
    "scrolled": false
   },
   "outputs": [],
   "source": [
    "not (6>10)"
   ]
  },
  {
   "cell_type": "code",
   "execution_count": null,
   "metadata": {
    "scrolled": false
   },
   "outputs": [],
   "source": [
    "not (10>6)"
   ]
  },
  {
   "cell_type": "code",
   "execution_count": null,
   "metadata": {
    "scrolled": false
   },
   "outputs": [],
   "source": [
    "not((5 < 3) and ((6 <= 6) or (5 != 6)))"
   ]
  },
  {
   "cell_type": "markdown",
   "metadata": {},
   "source": [
    "---\n",
    "\n",
    "## <font color='red'> Exercise: Logical tests\n",
    "\n",
    "Predict what the outcomes of these logical tests will be, then run the cells to check your predictions."
   ]
  },
  {
   "cell_type": "code",
   "execution_count": null,
   "metadata": {
    "scrolled": false
   },
   "outputs": [],
   "source": [
    "(6 <= 6) and (5 < 3)"
   ]
  },
  {
   "cell_type": "code",
   "execution_count": null,
   "metadata": {
    "scrolled": false
   },
   "outputs": [],
   "source": [
    "3 < 2 or 45 % 3 == 15"
   ]
  },
  {
   "cell_type": "code",
   "execution_count": null,
   "metadata": {
    "scrolled": false
   },
   "outputs": [],
   "source": [
    "60 - 45 / 5 + 10 == 1"
   ]
  },
  {
   "cell_type": "code",
   "execution_count": null,
   "metadata": {
    "scrolled": false
   },
   "outputs": [],
   "source": [
    "(6 <= 6) or (5 < 3)"
   ]
  },
  {
   "cell_type": "code",
   "execution_count": null,
   "metadata": {
    "scrolled": false
   },
   "outputs": [],
   "source": [
    "(5 < 3) and (6 <= 6) or (5 != 6)"
   ]
  },
  {
   "cell_type": "markdown",
   "metadata": {},
   "source": [
    "<a id=\"if\"></a>\n",
    "## The ``if`` statement"
   ]
  },
  {
   "cell_type": "markdown",
   "metadata": {},
   "source": [
    "``if`` statements are a way of making different things happen/running different bits of code depending on the outcome of a logical test.\n",
    "\n",
    "The simplest for of an ``if`` statement is shown below:\n",
    "\n",
    "``if logical test is true:\n",
    "        do some stuff``"
   ]
  },
  {
   "cell_type": "code",
   "execution_count": null,
   "metadata": {
    "scrolled": false
   },
   "outputs": [],
   "source": [
    "if 5<3:\n",
    "    print('five is greater than three')"
   ]
  },
  {
   "cell_type": "markdown",
   "metadata": {},
   "source": [
    "## The ``if-else`` statement"
   ]
  },
  {
   "cell_type": "markdown",
   "metadata": {},
   "source": [
    "The ``if-else`` statement runs one bit of code if the logical test is ``True``, and another bit of code if the logical test is ``False``.\n",
    "\n",
    "The general form of an ``if-else`` statement is below:\n",
    "\n",
    "``if logical test is true:\n",
    "        do some stuff\n",
    "  else:\n",
    "        do something else``"
   ]
  },
  {
   "cell_type": "code",
   "execution_count": null,
   "metadata": {
    "scrolled": false
   },
   "outputs": [],
   "source": [
    "if 1>3:\n",
    "    print('one is greater than three')\n",
    "else:\n",
    "    print('one is NOT greater than three')"
   ]
  },
  {
   "cell_type": "markdown",
   "metadata": {},
   "source": [
    "You'll notice that the line underneath each ``if/elif/else`` block is indented by four spaces, or one tab.\n",
    "\n",
    "We discussed whitespace earlier, and how in all but a few special cases, it is ignored by Python. Python uses white space to indicate the start and end of ``if`` statements and loops, so indentation is important here.\n",
    "\n",
    "When using ``if/elif/else`` blocks, all of the control blocks must have the same indentation level and all of the statements inside the control blocks should have the same level of indentation; or Python will return an error.\n",
    "\n",
    "Returning to the previous indentation level instructs Python that the block is complete."
   ]
  },
  {
   "cell_type": "markdown",
   "metadata": {},
   "source": [
    "## The ``if-elif`` statement\n",
    "\n",
    "The ``if-elif`` statement runs one bit of code if the logical test is ``True``, and another bit of code if **another** logical test is ``True``, and so on until the end of the block is reached. An ``if-elif`` block can end with an ``else`` statement, but this isn't necessary.\n",
    "\n",
    "The general form of an ``if-elif`` statement is below:\n",
    "\n",
    "``if logicaltest1 is true:\n",
    "        do some stuff\n",
    "  elif logicaltest2 is true:\n",
    "        do something else\n",
    "  elif logicaltest3 is true:\n",
    "        do something else entirely``\n",
    "        "
   ]
  },
  {
   "cell_type": "code",
   "execution_count": null,
   "metadata": {},
   "outputs": [],
   "source": [
    "if 1>3:\n",
    "    print('one is greater than three')\n",
    "elif 1<3:\n",
    "    print('one less than three')\n",
    "else:\n",
    "    print('one is equal to three')"
   ]
  },
  {
   "cell_type": "markdown",
   "metadata": {},
   "source": [
    "## <font color='red'> Exercise: Odd or even?\n",
    "    \n",
    "Write a function called ``odd_or_even``. It should take a single integer as an input.\n",
    "\n",
    "If the integer is even, the output of the function should be the string \"even!\" and if the integer is odd, the output should be \"odd!\"\n",
    "\n",
    "To do this, you will need to use the ``%`` operator.\n",
    "    "
   ]
  },
  {
   "cell_type": "code",
   "execution_count": null,
   "metadata": {
    "scrolled": false
   },
   "outputs": [],
   "source": []
  },
  {
   "cell_type": "markdown",
   "metadata": {},
   "source": [
    "---"
   ]
  },
  {
   "cell_type": "markdown",
   "metadata": {},
   "source": [
    "<a id=\"for\"></a>\n",
    "## The ``for`` loop\n",
    "\n",
    "``for`` loops allow us to loop over a list, and perform some calculation on each element in the list. The ``for`` loop will iterate (or cycle) across all items in the list, beginning with item at position ``0`` and continuing until the final element.\n",
    "\n",
    "The generic form of a ``for`` loop is below:\n",
    "\n",
    "``for every_element in my_list:``\n",
    "        \n",
    "    ``perform some calculation or operation with the current element of the list``\n",
    "\n",
    "\n",
    "``for`` loops can also be used to iterate over other types (not just lists) such as ranges, tuples, arrays or matrices.\n",
    "\n",
    "In the example below, notice how the value of **i** changes with every iteration of the loop, to take the value of the current element in the list."
   ]
  },
  {
   "cell_type": "code",
   "execution_count": null,
   "metadata": {
    "scrolled": false
   },
   "outputs": [],
   "source": [
    "for i in [1,2,'bananas',3,4,True]:\n",
    "    \n",
    "    print(i)"
   ]
  },
  {
   "cell_type": "markdown",
   "metadata": {},
   "source": [
    "Here's an example of a ``for`` loop that iterates over a ``range`` rather than a list. A ``range`` is a useful way of quickly generating a sequence of numbers."
   ]
  },
  {
   "cell_type": "code",
   "execution_count": null,
   "metadata": {
    "scrolled": false
   },
   "outputs": [],
   "source": [
    "for x in range(0,5):\n",
    "    \n",
    "    print(x)"
   ]
  },
  {
   "cell_type": "markdown",
   "metadata": {},
   "source": [
    "``for`` loops can also be used to update the values of variables, or append items to the end of lists."
   ]
  },
  {
   "cell_type": "code",
   "execution_count": null,
   "metadata": {
    "scrolled": false
   },
   "outputs": [],
   "source": [
    "mylist = [] # initialise an empty list\n",
    "\n",
    "for y in [1,2,3,4,5]:\n",
    "    \n",
    "    mylist.append(y**2)\n",
    "\n",
    "print(mylist)"
   ]
  },
  {
   "cell_type": "markdown",
   "metadata": {},
   "source": [
    "**Indentation matters!** \n",
    "\n",
    "Any piece of code **inside** the indented ``for`` loop block will be executed on every cycle of the ``for`` loop. \n",
    "\n",
    "Any code not inside the intended block is not part of the loop, and is a regular stand-alone piece of code.\n",
    "\n",
    "Notice the difference between the following code cell and the code in the cell above:"
   ]
  },
  {
   "cell_type": "code",
   "execution_count": null,
   "metadata": {
    "scrolled": false
   },
   "outputs": [],
   "source": [
    "mylist = [] # initialise an empty list\n",
    "\n",
    "for y in range(0,5):\n",
    "    \n",
    "    mylist.append(y**2)\n",
    "    print(mylist) # on EVERY iteration of the loop, print the current state of the list\n",
    "    "
   ]
  },
  {
   "cell_type": "markdown",
   "metadata": {},
   "source": [
    "---\n",
    "## <font color='red'> Exercise: FizzBuzz\n",
    "\n",
    "Use a ``for`` loop together with the ``range`` function to print all the whole numbers from 1 to 100. \n",
    "\n",
    "But for multiples of three print \"Fizz\" instead of the number and for the multiples of five print \"Buzz\". \n",
    "\n",
    "For numbers which are multiples of both three and five print \"FizzBuzz\".\n",
    "\n",
    "**For context**: The ``fizzbuzz`` question is well known as an exercise used in programming interviews. It was devised by Imran Ghory, and popularised by Jeff Atwood: \n",
    "\n",
    "https://imranontech.com/2007/01/24/using-fizzbuzz-to-find-developers-who-grok-coding/ \n",
    "\n",
    "---"
   ]
  },
  {
   "cell_type": "markdown",
   "metadata": {},
   "source": [
    "<a id=\"while\"></a>\n",
    "## The ``while`` loop\n",
    "\n",
    "A ``while`` loop keeps repeating an operation **while** a certain logical test remains ``True``. \n",
    "\n",
    "The general form is:\n",
    "\n",
    "``while logical test remains True:\n",
    "    do some stuff``\n"
   ]
  },
  {
   "cell_type": "code",
   "execution_count": null,
   "metadata": {
    "scrolled": false
   },
   "outputs": [],
   "source": [
    "counter=1\n",
    "\n",
    "while(counter<=10):\n",
    "    print(counter)\n",
    "    counter+=1 # we update the value of 'counter' this is a short way of writing counter = counter+1\n",
    "    \n",
    "print(\"Done\") # this is outside the loop"
   ]
  },
  {
   "cell_type": "markdown",
   "metadata": {},
   "source": [
    "---\n",
    "## <font color='red'> Exercise: Compound interest (again)\n",
    "\n",
    "Let's go back to our compound interest formula:\n",
    "\n",
    "$$TV = PV(1+r)^n$$\n",
    "\n",
    "Where\n",
    "\n",
    "$TV$ is the final value of the investment\n",
    "\n",
    "$PV$ is the initial investment\n",
    "\n",
    "$r$ is the interest rate per year \n",
    "\n",
    "$n$ is the number of years\n",
    "\n",
    "Suppose we'd like to know for how many years we have to keep 100 pounds on a savings account to reach 200 pounds simply due to annual payment of interest at a rate of 5%. Write code using a ``while`` loop to show that this will take 15 years.\n",
    "\n",
    "---"
   ]
  },
  {
   "cell_type": "markdown",
   "metadata": {},
   "source": [
    "## <font color='red'> Exercise: Can I get a mortgage?\n",
    "\n",
    "Write a function to help first-time buyers understand if they can afford a mortgage for the house they want. \n",
    "\n",
    "The inputs to the function should be:\n",
    "* The buyers' total income\n",
    "* The price of the property they want to buy\n",
    "* The size of their deposit\n",
    "\n",
    "Assume that a bank will only grant them a mortgage under the following conditions:\n",
    "* The deposit must be at least 15% of the purchase price\n",
    "* The mortgage can be a maximum of 4.5x the buyers' total income \n",
    "\n",
    "The outputs from the function should be a string that explains whether the buyer can afford the property or not. "
   ]
  },
  {
   "cell_type": "code",
   "execution_count": null,
   "metadata": {},
   "outputs": [],
   "source": []
  }
 ],
 "metadata": {
  "colab": {
   "name": "intro_to_python.ipynb",
   "provenance": []
  },
  "kernelspec": {
   "display_name": "Python 3",
   "language": "python",
   "name": "python3"
  },
  "language_info": {
   "codemirror_mode": {
    "name": "ipython",
    "version": 3
   },
   "file_extension": ".py",
   "mimetype": "text/x-python",
   "name": "python",
   "nbconvert_exporter": "python",
   "pygments_lexer": "ipython3",
   "version": "3.7.4"
  }
 },
 "nbformat": 4,
 "nbformat_minor": 1
}
