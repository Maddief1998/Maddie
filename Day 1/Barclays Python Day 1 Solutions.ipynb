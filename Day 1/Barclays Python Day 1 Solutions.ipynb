{
 "cells": [
  {
   "cell_type": "markdown",
   "metadata": {
    "colab_type": "text",
    "id": "88tCXKMAp2FX"
   },
   "source": [
    "#  Barclays x GA: Python Day 1 Solutions\n",
    "---"
   ]
  },
  {
   "cell_type": "markdown",
   "metadata": {},
   "source": [
    "## <font color='red'> <font color='red'> Exercise: Decoding Python commands\n",
    "\n",
    "Take a look at the Python commands below. For each command, **before you run the cell** discuss with someone sitting next to you:\n",
    "\n",
    "* What the input to the command is\n",
    "* What the output will look like \n",
    "* What the command is doing\n",
    "\n",
    "The clue is often in the name of the command; don't overthink this exercise!\n",
    "\n",
    "**It's always helpful to think of Python commands as having an input and an output; this helps us understand what's going on**\n"
   ]
  },
  {
   "cell_type": "markdown",
   "metadata": {},
   "source": [
    "Converts the string to lowercase"
   ]
  },
  {
   "cell_type": "code",
   "execution_count": null,
   "metadata": {},
   "outputs": [],
   "source": [
    "'CAPS LOCK MAKES IT SEEM LIKE IM SHOUTING'.lower()"
   ]
  },
  {
   "cell_type": "markdown",
   "metadata": {},
   "source": [
    "Finds the maximum value in the list"
   ]
  },
  {
   "cell_type": "code",
   "execution_count": null,
   "metadata": {},
   "outputs": [],
   "source": [
    "max([3,5,2,8])"
   ]
  },
  {
   "cell_type": "markdown",
   "metadata": {
    "colab_type": "text",
    "id": "lFlUxiQUp2GK"
   },
   "source": [
    "---\n",
    "\n",
    "## <font color='red'> Exercise: Arithmetic and debugging\n",
    "\n",
    "Insert new cells into this notebook to complete each of the following exercises.\n",
    "\n",
    "1. Evaluate the following expressions: \n",
    "    \n",
    "    (a) 7-15\n",
    "    \n",
    "    (b) $3^7+16/3$\n",
    "\n",
    "\n",
    "2. The following lines of code will result in error messages when you try to run them. Fix the code so it runs without errors:"
   ]
  },
  {
   "cell_type": "code",
   "execution_count": 1,
   "metadata": {},
   "outputs": [
    {
     "data": {
      "text/plain": [
       "-8"
      ]
     },
     "execution_count": 1,
     "metadata": {},
     "output_type": "execute_result"
    }
   ],
   "source": [
    "7-15"
   ]
  },
  {
   "cell_type": "code",
   "execution_count": 2,
   "metadata": {},
   "outputs": [
    {
     "data": {
      "text/plain": [
       "2192.3333333333335"
      ]
     },
     "execution_count": 2,
     "metadata": {},
     "output_type": "execute_result"
    }
   ],
   "source": [
    "(3**7)+(16/3)"
   ]
  },
  {
   "cell_type": "markdown",
   "metadata": {},
   "source": [
    "Need to use consistent double or single quotes. Either of these solutions will work:"
   ]
  },
  {
   "cell_type": "code",
   "execution_count": 3,
   "metadata": {
    "colab": {},
    "colab_type": "code",
    "id": "jtvPH5DJp2GL",
    "outputId": "505dfb53-2bca-40dc-e7d4-e1d7c35461ad"
   },
   "outputs": [
    {
     "name": "stdout",
     "output_type": "stream",
     "text": [
      "hello world!\n"
     ]
    }
   ],
   "source": [
    "print('hello world!')"
   ]
  },
  {
   "cell_type": "code",
   "execution_count": 4,
   "metadata": {},
   "outputs": [
    {
     "name": "stdout",
     "output_type": "stream",
     "text": [
      "hello world!\n"
     ]
    }
   ],
   "source": [
    "print(\"hello world!\")"
   ]
  },
  {
   "cell_type": "markdown",
   "metadata": {},
   "source": [
    "Can't add an integer to a string. Either of these solutions will work:"
   ]
  },
  {
   "cell_type": "code",
   "execution_count": 5,
   "metadata": {
    "colab": {},
    "colab_type": "code",
    "id": "FDAcRZ2up2GM"
   },
   "outputs": [
    {
     "data": {
      "text/plain": [
       "8"
      ]
     },
     "execution_count": 5,
     "metadata": {},
     "output_type": "execute_result"
    }
   ],
   "source": [
    "5 + 3"
   ]
  },
  {
   "cell_type": "code",
   "execution_count": 6,
   "metadata": {},
   "outputs": [
    {
     "data": {
      "text/plain": [
       "8"
      ]
     },
     "execution_count": 6,
     "metadata": {},
     "output_type": "execute_result"
    }
   ],
   "source": [
    "5+int('3')"
   ]
  },
  {
   "cell_type": "markdown",
   "metadata": {},
   "source": [
    "Need to add brackets."
   ]
  },
  {
   "cell_type": "code",
   "execution_count": 7,
   "metadata": {
    "colab": {},
    "colab_type": "code",
    "id": "ZAfcmymYp2GO"
   },
   "outputs": [
    {
     "name": "stdout",
     "output_type": "stream",
     "text": [
      "hello?\n"
     ]
    }
   ],
   "source": [
    "print(\"hello?\")"
   ]
  },
  {
   "cell_type": "markdown",
   "metadata": {},
   "source": [
    "---\n",
    "\n",
    "## <font color='red'> Exercise: Finding help online\n",
    "\n",
    "Use your Google and Stackoverflow skills to figure out how to retrieve, **or index, the last element in this list**"
   ]
  },
  {
   "cell_type": "code",
   "execution_count": 8,
   "metadata": {},
   "outputs": [
    {
     "data": {
      "text/plain": [
       "'dog'"
      ]
     },
     "execution_count": 8,
     "metadata": {},
     "output_type": "execute_result"
    }
   ],
   "source": [
    "['the','quick','brown','fox','jumped','over','the','lazy','dog'][-1]"
   ]
  },
  {
   "cell_type": "markdown",
   "metadata": {},
   "source": [
    "Now figure out how to **index the first element in the same list**"
   ]
  },
  {
   "cell_type": "code",
   "execution_count": 9,
   "metadata": {},
   "outputs": [
    {
     "data": {
      "text/plain": [
       "'the'"
      ]
     },
     "execution_count": 9,
     "metadata": {},
     "output_type": "execute_result"
    }
   ],
   "source": [
    "['the','quick','brown','fox','jumped','over','the','lazy','dog'][0]"
   ]
  },
  {
   "cell_type": "markdown",
   "metadata": {},
   "source": [
    "---\n",
    "\n",
    "## <font color='red'> Exercise: Variables\n",
    "\n",
    "Let's practise using variables. Write Python code to do the following:\n",
    "\n",
    "* Create a variable called `current_year` and assign it the value 2020.\n",
    "* Create another variable called `my_year_of_birth` and assign it the value of the year you were born.\n",
    "* Create a third variable called `my_approx_age` by performing a calculation with the first two variables.\n",
    "\n",
    "---"
   ]
  },
  {
   "cell_type": "code",
   "execution_count": 11,
   "metadata": {},
   "outputs": [
    {
     "name": "stdout",
     "output_type": "stream",
     "text": [
      "110\n"
     ]
    }
   ],
   "source": [
    "current_year = 2020\n",
    "my_year_of_birth = 1910\n",
    "my_approx_age = current_year-my_year_of_birth\n",
    "\n",
    "print(my_approx_age)"
   ]
  },
  {
   "cell_type": "markdown",
   "metadata": {
    "colab_type": "text",
    "id": "dhTeQ_Irp2IU"
   },
   "source": [
    "---\n",
    "\n",
    "## <font color='red'> Exercise: Strings\n",
    "\n",
    "1. Given the string \"The quick brown fox jumped over the lazy dog\", write code to extract:\n",
    "\n",
    "    (a) The following substring: \"The quick brown fo\"\n",
    "    \n",
    "    (b) The first character only\n",
    "    \n",
    "    (c) The last character only*\n",
    "    \n",
    "    (d) The substring \"over the lazy dog\"\n",
    "    \n",
    "    \\*You can do this in two ways: try to find both!\n",
    "    \n",
    "    \n",
    "2. Figure out what the following syntax does: \n",
    "\n",
    "```mystring[i:j:k]```, ```mystring[-1]```, ```mystring[:i]```, ```mystring[i:]```, ```mystring[:]```, ```mystring[-2]```\n",
    "\n",
    "---"
   ]
  },
  {
   "cell_type": "code",
   "execution_count": 14,
   "metadata": {},
   "outputs": [
    {
     "data": {
      "text/plain": [
       "'The quick brown fo'"
      ]
     },
     "execution_count": 14,
     "metadata": {},
     "output_type": "execute_result"
    }
   ],
   "source": [
    "my_string = 'The quick brown fox jumped over the lazy dog'\n",
    "\n",
    "# (a)\n",
    "my_string[0:18]\n"
   ]
  },
  {
   "cell_type": "code",
   "execution_count": 16,
   "metadata": {},
   "outputs": [
    {
     "data": {
      "text/plain": [
       "'T'"
      ]
     },
     "execution_count": 16,
     "metadata": {},
     "output_type": "execute_result"
    }
   ],
   "source": [
    "# (b)\n",
    "my_string[0]\n"
   ]
  },
  {
   "cell_type": "code",
   "execution_count": 17,
   "metadata": {},
   "outputs": [
    {
     "data": {
      "text/plain": [
       "'g'"
      ]
     },
     "execution_count": 17,
     "metadata": {},
     "output_type": "execute_result"
    }
   ],
   "source": [
    "# (c)\n",
    "my_string[-1]\n"
   ]
  },
  {
   "cell_type": "code",
   "execution_count": 20,
   "metadata": {},
   "outputs": [
    {
     "data": {
      "text/plain": [
       "'over the lazy dog'"
      ]
     },
     "execution_count": 20,
     "metadata": {},
     "output_type": "execute_result"
    }
   ],
   "source": [
    "# (d)\n",
    "my_string[27:-1] # my_string[27:] would also work\n"
   ]
  },
  {
   "cell_type": "markdown",
   "metadata": {
    "colab_type": "text",
    "id": "bXk83CuSp2Ig"
   },
   "source": [
    "---\n",
    "\n",
    "## <font color='red'> Exercise: Lists\n",
    "\n",
    "Given the list below, write code to extract:\n",
    "\n",
    "(a) The first element\n",
    "\n",
    "(b) The last element\n",
    "\n",
    "(c) The substring 'ban' from the last element\n",
    "\n",
    "Append an extra element, 'apples', to the list\n",
    "\n",
    "Remove the first element of the list\n",
    "\n",
    "Reverse the order of elements in the list (you might need to Google around a bit to get the solution)"
   ]
  },
  {
   "cell_type": "code",
   "execution_count": 21,
   "metadata": {
    "colab": {},
    "colab_type": "code",
    "id": "im2VgADzp2Ig"
   },
   "outputs": [],
   "source": [
    "mylist = ['a','b','d','e',1,2,3,'124','bananas']"
   ]
  },
  {
   "cell_type": "code",
   "execution_count": 22,
   "metadata": {},
   "outputs": [
    {
     "data": {
      "text/plain": [
       "'a'"
      ]
     },
     "execution_count": 22,
     "metadata": {},
     "output_type": "execute_result"
    }
   ],
   "source": [
    "mylist[0]"
   ]
  },
  {
   "cell_type": "code",
   "execution_count": 23,
   "metadata": {},
   "outputs": [
    {
     "data": {
      "text/plain": [
       "'bananas'"
      ]
     },
     "execution_count": 23,
     "metadata": {},
     "output_type": "execute_result"
    }
   ],
   "source": [
    "mylist[-1]"
   ]
  },
  {
   "cell_type": "code",
   "execution_count": 25,
   "metadata": {},
   "outputs": [
    {
     "data": {
      "text/plain": [
       "'ban'"
      ]
     },
     "execution_count": 25,
     "metadata": {},
     "output_type": "execute_result"
    }
   ],
   "source": [
    "mylist[-1][0:3]"
   ]
  },
  {
   "cell_type": "code",
   "execution_count": 26,
   "metadata": {},
   "outputs": [
    {
     "data": {
      "text/plain": [
       "['a', 'b', 'd', 'e', 1, 2, 3, '124', 'bananas', 'apples']"
      ]
     },
     "execution_count": 26,
     "metadata": {},
     "output_type": "execute_result"
    }
   ],
   "source": [
    "mylist.append('apples')\n",
    "mylist"
   ]
  },
  {
   "cell_type": "code",
   "execution_count": 27,
   "metadata": {},
   "outputs": [
    {
     "data": {
      "text/plain": [
       "['b', 'd', 'e', 1, 2, 3, '124', 'bananas', 'apples']"
      ]
     },
     "execution_count": 27,
     "metadata": {},
     "output_type": "execute_result"
    }
   ],
   "source": [
    "del mylist[0]\n",
    "mylist"
   ]
  },
  {
   "cell_type": "code",
   "execution_count": 28,
   "metadata": {},
   "outputs": [
    {
     "data": {
      "text/plain": [
       "['apples', 'bananas', '124', 3, 2, 1, 'e', 'd', 'b']"
      ]
     },
     "execution_count": 28,
     "metadata": {},
     "output_type": "execute_result"
    }
   ],
   "source": [
    "mylist[::-1]"
   ]
  },
  {
   "cell_type": "markdown",
   "metadata": {},
   "source": [
    "---"
   ]
  },
  {
   "cell_type": "markdown",
   "metadata": {},
   "source": [
    "## <font color='red'> Exercise: Dictionaries\n",
    "    \n",
    "Can you retrieve the following from the `class_information_dictionary` defined below?\n",
    "\n",
    "* Bob's favourite food\n",
    "* Sarah's age\n",
    "* Maryam's 3rd favourite drink\n"
   ]
  },
  {
   "cell_type": "code",
   "execution_count": 35,
   "metadata": {},
   "outputs": [],
   "source": [
    "class_information_dictionary = {'Maryam': {'food':'pizza',\n",
    "                                           'drink':['coffee','orange juice','tea'],\n",
    "                                           'age':29},\n",
    "                               'Bob': {'food':'dim sum',\n",
    "                                          'drink':'water',\n",
    "                                          'age': 21},\n",
    "                               'Sarah': {'food':'lasagna',\n",
    "                                         'drink': 'green tea',\n",
    "                                         'age': 22}}"
   ]
  },
  {
   "cell_type": "code",
   "execution_count": 30,
   "metadata": {},
   "outputs": [
    {
     "data": {
      "text/plain": [
       "'dim sum'"
      ]
     },
     "execution_count": 30,
     "metadata": {},
     "output_type": "execute_result"
    }
   ],
   "source": [
    "class_information_dictionary['Bob']['food']"
   ]
  },
  {
   "cell_type": "code",
   "execution_count": 31,
   "metadata": {},
   "outputs": [
    {
     "data": {
      "text/plain": [
       "22"
      ]
     },
     "execution_count": 31,
     "metadata": {},
     "output_type": "execute_result"
    }
   ],
   "source": [
    "class_information_dictionary['Sarah']['age']"
   ]
  },
  {
   "cell_type": "code",
   "execution_count": 32,
   "metadata": {},
   "outputs": [
    {
     "data": {
      "text/plain": [
       "'tea'"
      ]
     },
     "execution_count": 32,
     "metadata": {},
     "output_type": "execute_result"
    }
   ],
   "source": [
    "class_information_dictionary['Maryam']['drink'][2]"
   ]
  },
  {
   "cell_type": "markdown",
   "metadata": {},
   "source": [
    "Here's a dictionary that contains other dictionaries. Using a combination of keys and (where necessary) list indexing, can you retrieve the following information from `company_info_dictionary`?\n",
    "\n",
    "* The number of companies in the dataset\n",
    "* The number of employees at Wiiwork\n",
    "* MeTube's founder\n",
    "* The 2nd of Bloogle's founders\n",
    "* All of Bloogle's office locations\n",
    "* The first name of Wiiwork's first founder"
   ]
  },
  {
   "cell_type": "code",
   "execution_count": 36,
   "metadata": {},
   "outputs": [
    {
     "data": {
      "text/plain": [
       "3"
      ]
     },
     "execution_count": 36,
     "metadata": {},
     "output_type": "execute_result"
    }
   ],
   "source": [
    "company_info_dictionary['meta_data']['number_of_companies']"
   ]
  },
  {
   "cell_type": "code",
   "execution_count": 37,
   "metadata": {},
   "outputs": [
    {
     "data": {
      "text/plain": [
       "230"
      ]
     },
     "execution_count": 37,
     "metadata": {},
     "output_type": "execute_result"
    }
   ],
   "source": [
    "company_info_dictionary['company_data'][0]['employees']"
   ]
  },
  {
   "cell_type": "code",
   "execution_count": 39,
   "metadata": {},
   "outputs": [
    {
     "data": {
      "text/plain": [
       "'Sarah Williams'"
      ]
     },
     "execution_count": 39,
     "metadata": {},
     "output_type": "execute_result"
    }
   ],
   "source": [
    "company_info_dictionary['company_data'][1]['founders'][0]"
   ]
  },
  {
   "cell_type": "code",
   "execution_count": 40,
   "metadata": {},
   "outputs": [
    {
     "data": {
      "text/plain": [
       "'Lee Peterson'"
      ]
     },
     "execution_count": 40,
     "metadata": {},
     "output_type": "execute_result"
    }
   ],
   "source": [
    "company_info_dictionary['company_data'][2]['founders'][1]"
   ]
  },
  {
   "cell_type": "code",
   "execution_count": 41,
   "metadata": {},
   "outputs": [
    {
     "data": {
      "text/plain": [
       "['Mountain View', 'New York', 'Paris', 'London']"
      ]
     },
     "execution_count": 41,
     "metadata": {},
     "output_type": "execute_result"
    }
   ],
   "source": [
    "company_info_dictionary['company_data'][2]['location']"
   ]
  },
  {
   "cell_type": "code",
   "execution_count": 43,
   "metadata": {},
   "outputs": [
    {
     "data": {
      "text/plain": [
       "'Andy Newman'"
      ]
     },
     "execution_count": 43,
     "metadata": {},
     "output_type": "execute_result"
    }
   ],
   "source": [
    "company_info_dictionary['company_data'][0]['founders'][0]"
   ]
  },
  {
   "cell_type": "code",
   "execution_count": 33,
   "metadata": {},
   "outputs": [],
   "source": [
    "company_info_dictionary = {'meta_data':{'number_of_companies':3,\n",
    "                                       'data_last_updated':'12/01/2020'},\n",
    "                           \n",
    "                          'company_data':[{'name':'Wiiwork',\n",
    "                                         'employees':230,\n",
    "                                         'office_locations':['New York'],\n",
    "                                         'founders':['Andy Newman','Mike MacIntyre']},\n",
    "                                          \n",
    "                                          {'name':'MeTube',\n",
    "                                         'employees':100,\n",
    "                                         'location':['San Francisco','London'],\n",
    "                                         'founders':['Sarah Williams']},\n",
    "                                          \n",
    "                                          {'name':'Bloogle',\n",
    "                                         'employees':5001,\n",
    "                                         'location':['Mountain View','New York','Paris','London'],\n",
    "                                         'founders':['Steve Brine','Lee Peterson']}                                          \n",
    "                                          \n",
    "                                         ]}\n"
   ]
  },
  {
   "cell_type": "markdown",
   "metadata": {
    "colab_type": "text",
    "id": "1Yyskq6cp2Ix"
   },
   "source": [
    "---\n",
    "\n",
    "## <font color='red'> Exercise: Libraries\n",
    "\n",
    "1. Import the 'statistics' library as 'stats' and the 'numpy' library as 'np'.\n",
    "\n",
    "2. Use ``stats.mean()`` and ``stats.median()`` to calculate the mean and median of this list of values: ``[1.5, 2.3, 6.7, 8, 10]``\n",
    "\n",
    "3. Repeat these calculations using the 'numpy' library and confirm the results are the same."
   ]
  },
  {
   "cell_type": "code",
   "execution_count": 6,
   "metadata": {
    "colab": {},
    "colab_type": "code",
    "id": "XLrgJlaqp2Iy"
   },
   "outputs": [
    {
     "name": "stdout",
     "output_type": "stream",
     "text": [
      "5.7\n",
      "5.7\n"
     ]
    }
   ],
   "source": [
    "import numpy as np\n",
    "import statistics as stats\n",
    "\n",
    "my_list = [1.5, 2.3, 6.7, 8, 10]\n",
    "\n",
    "print(stats.mean(my_list))\n",
    "print(np.mean(my_list))"
   ]
  },
  {
   "cell_type": "code",
   "execution_count": 7,
   "metadata": {},
   "outputs": [
    {
     "name": "stdout",
     "output_type": "stream",
     "text": [
      "6.7\n",
      "6.7\n"
     ]
    }
   ],
   "source": [
    "print(stats.median(my_list))\n",
    "print(np.median(my_list))"
   ]
  },
  {
   "cell_type": "markdown",
   "metadata": {},
   "source": [
    "---\n",
    "\n",
    "## <font color='red'> Exercise: Writing functions\n",
    "\n",
    "Let's write a function to calculate the final value of an investment that's accruing compound interest.\n",
    "\n",
    "This is described by the formula:\n",
    "\n",
    "$$TV = PV(1+r)^n$$\n",
    "\n",
    "Where\n",
    "\n",
    "$TV$ is the final value of the investment\n",
    "\n",
    "$PV$ is the initial investment\n",
    "\n",
    "$r$ is the interest rate per year \n",
    "\n",
    "$n$ is the number of years\n",
    "\n",
    "1. Write a function that computes the final value of an investment, given the initial investment, interest rate, and number of years."
   ]
  },
  {
   "cell_type": "code",
   "execution_count": 53,
   "metadata": {},
   "outputs": [],
   "source": [
    "def compound_interest(PV, r, n):\n",
    "    \n",
    "    TV = PV*(1+r)**n\n",
    "    \n",
    "    return TV"
   ]
  },
  {
   "cell_type": "markdown",
   "metadata": {},
   "source": [
    "2. Use your function to compute the final value of a £130 investment, assuming an interest rate of 3% over 5 years."
   ]
  },
  {
   "cell_type": "code",
   "execution_count": 55,
   "metadata": {},
   "outputs": [
    {
     "data": {
      "text/plain": [
       "150.705629659"
      ]
     },
     "execution_count": 55,
     "metadata": {},
     "output_type": "execute_result"
    }
   ],
   "source": [
    "TV = compound_interest(130,0.03,5)\n",
    "TV"
   ]
  },
  {
   "cell_type": "markdown",
   "metadata": {},
   "source": [
    "3. Write a function that computes the number of years needed for an investment reach a given multiple of its initial value, also given the interest rate. (**hint: you'll need to rearrange the formula to make $n$ the subject**, and you'll need the ``math`` library)"
   ]
  },
  {
   "cell_type": "markdown",
   "metadata": {},
   "source": [
    "We start by rearranging the formula:\n",
    "\n",
    "$$\\dfrac{TV}{PV} = (1+r)^n$$\n",
    "\n",
    "We can redefine $\\dfrac{TV}{PV}$ as our 'multiple'; that is, how many times greater the final value of our investment is compared to the initial value.\n",
    "\n",
    "$$multiple = (1+r)^n$$\n",
    "\n",
    "We can take logs of both sides to deal with $n$\n",
    "\n",
    "$$log\\:multiple = nlog(1+r)$$\n",
    "\n",
    "We can rearrange some more to make $n$ the subject:\n",
    "\n",
    "$$n=\\dfrac{log\\:multiple}{log(1+r)}$$\n",
    "\n",
    "Now we have our formula for the number of years needed for an investment to reach a given multiple of its initial value, we can code it up in Python: "
   ]
  },
  {
   "cell_type": "code",
   "execution_count": 56,
   "metadata": {},
   "outputs": [],
   "source": [
    "import math\n",
    "\n",
    "def get_years(multiple,r):\n",
    "    \n",
    "    n = math.log(multiple)/math.log(1+r)\n",
    "    \n",
    "    return n"
   ]
  },
  {
   "cell_type": "markdown",
   "metadata": {},
   "source": [
    "4. Use your function to work out how many years are needed for an investment to double in value, assuming an interest rate of 0.01%"
   ]
  },
  {
   "cell_type": "code",
   "execution_count": 57,
   "metadata": {},
   "outputs": [
    {
     "data": {
      "text/plain": [
       "69.66071689357483"
      ]
     },
     "execution_count": 57,
     "metadata": {},
     "output_type": "execute_result"
    }
   ],
   "source": [
    "n = get_years(2,0.01)\n",
    "n"
   ]
  },
  {
   "cell_type": "markdown",
   "metadata": {},
   "source": [
    "#### ---\n",
    "\n",
    "## <font color='red'> Exercise: Logical tests\n",
    "\n",
    "Predict what the outcomes of these logical tests will be, then run the cells to check your predictions."
   ]
  },
  {
   "cell_type": "code",
   "execution_count": 58,
   "metadata": {},
   "outputs": [
    {
     "data": {
      "text/plain": [
       "False"
      ]
     },
     "execution_count": 58,
     "metadata": {},
     "output_type": "execute_result"
    }
   ],
   "source": [
    "(6 <= 6) and (5 < 3)\n",
    "\n",
    "# True and False -> False"
   ]
  },
  {
   "cell_type": "code",
   "execution_count": 59,
   "metadata": {},
   "outputs": [
    {
     "data": {
      "text/plain": [
       "False"
      ]
     },
     "execution_count": 59,
     "metadata": {},
     "output_type": "execute_result"
    }
   ],
   "source": [
    "3 < 2 or 45 % 3 == 15\n",
    "\n",
    "# False or False -> False"
   ]
  },
  {
   "cell_type": "code",
   "execution_count": 61,
   "metadata": {},
   "outputs": [
    {
     "data": {
      "text/plain": [
       "False"
      ]
     },
     "execution_count": 61,
     "metadata": {},
     "output_type": "execute_result"
    }
   ],
   "source": [
    "60 - 45 / 5 + 10 == 1"
   ]
  },
  {
   "cell_type": "code",
   "execution_count": 62,
   "metadata": {},
   "outputs": [
    {
     "data": {
      "text/plain": [
       "True"
      ]
     },
     "execution_count": 62,
     "metadata": {},
     "output_type": "execute_result"
    }
   ],
   "source": [
    "(6 <= 6) or (5 < 3)\n",
    "\n",
    "# True or False -> True"
   ]
  },
  {
   "cell_type": "code",
   "execution_count": 63,
   "metadata": {},
   "outputs": [
    {
     "data": {
      "text/plain": [
       "True"
      ]
     },
     "execution_count": 63,
     "metadata": {},
     "output_type": "execute_result"
    }
   ],
   "source": [
    "(5 < 3) and (6 <= 6) or (5 != 6)\n",
    "\n",
    "# (False and True) or True -> True"
   ]
  },
  {
   "cell_type": "code",
   "execution_count": 65,
   "metadata": {},
   "outputs": [
    {
     "data": {
      "text/plain": [
       "True"
      ]
     },
     "execution_count": 65,
     "metadata": {},
     "output_type": "execute_result"
    }
   ],
   "source": [
    "not((5 < 3) and ((6 <= 6) or (5 != 6)))\n",
    "\n",
    "# False and (True or True) -> False\n",
    "# not False -> True"
   ]
  },
  {
   "cell_type": "markdown",
   "metadata": {},
   "source": [
    "---\n",
    "\n",
    "## <font color='red'> Exercise: Odd or even?\n",
    "    \n",
    "Write a function called ``odd_or_even``. It should take a single integer as an input.\n",
    "\n",
    "If the integer is even, the output of the function should be the string \"even!\" and if the integer is odd, the output should be \"odd!\"\n",
    "\n",
    "To do this, you will need to use the ``%`` operator.\n",
    "    "
   ]
  },
  {
   "cell_type": "code",
   "execution_count": 69,
   "metadata": {},
   "outputs": [],
   "source": [
    "def odd_or_even(number):\n",
    "    \n",
    "    if number%2==0:\n",
    "        print('even!')\n",
    "    else:\n",
    "        print('odd!')"
   ]
  },
  {
   "cell_type": "code",
   "execution_count": 70,
   "metadata": {},
   "outputs": [
    {
     "name": "stdout",
     "output_type": "stream",
     "text": [
      "odd!\n"
     ]
    }
   ],
   "source": [
    "odd_or_even(1)"
   ]
  },
  {
   "cell_type": "code",
   "execution_count": 71,
   "metadata": {},
   "outputs": [
    {
     "name": "stdout",
     "output_type": "stream",
     "text": [
      "even!\n"
     ]
    }
   ],
   "source": [
    "odd_or_even(4)"
   ]
  },
  {
   "cell_type": "markdown",
   "metadata": {},
   "source": [
    "---\n",
    "## <font color='red'> Exercise: FizzBuzz\n",
    "\n",
    "Use a ``for`` loop together with the ``range`` function to print all the whole numbers from 1 to 100. \n",
    "\n",
    "But for multiples of three print \"Fizz\" instead of the number and for the multiples of five print \"Buzz\". \n",
    "\n",
    "For numbers which are multiples of both three and five print \"FizzBuzz\".\n",
    "\n",
    "**For context**: The ``fizzbuzz`` question is well known as an exercise used in programming interviews. It was devised by Imran Ghory, and popularised by Jeff Atwood: \n",
    "\n",
    "https://imranontech.com/2007/01/24/using-fizzbuzz-to-find-developers-who-grok-coding/ \n",
    "\n",
    "---"
   ]
  },
  {
   "cell_type": "code",
   "execution_count": 72,
   "metadata": {
    "scrolled": true
   },
   "outputs": [
    {
     "name": "stdout",
     "output_type": "stream",
     "text": [
      "1\n",
      "2\n",
      "fizz\n",
      "4\n",
      "buzz\n",
      "fizz\n",
      "7\n",
      "8\n",
      "fizz\n",
      "buzz\n",
      "11\n",
      "fizz\n",
      "13\n",
      "14\n",
      "fizzbuzz\n",
      "16\n",
      "17\n",
      "fizz\n",
      "19\n",
      "buzz\n",
      "fizz\n",
      "22\n",
      "23\n",
      "fizz\n",
      "buzz\n",
      "26\n",
      "fizz\n",
      "28\n",
      "29\n",
      "fizzbuzz\n",
      "31\n",
      "32\n",
      "fizz\n",
      "34\n",
      "buzz\n",
      "fizz\n",
      "37\n",
      "38\n",
      "fizz\n",
      "buzz\n",
      "41\n",
      "fizz\n",
      "43\n",
      "44\n",
      "fizzbuzz\n",
      "46\n",
      "47\n",
      "fizz\n",
      "49\n",
      "buzz\n",
      "fizz\n",
      "52\n",
      "53\n",
      "fizz\n",
      "buzz\n",
      "56\n",
      "fizz\n",
      "58\n",
      "59\n",
      "fizzbuzz\n",
      "61\n",
      "62\n",
      "fizz\n",
      "64\n",
      "buzz\n",
      "fizz\n",
      "67\n",
      "68\n",
      "fizz\n",
      "buzz\n",
      "71\n",
      "fizz\n",
      "73\n",
      "74\n",
      "fizzbuzz\n",
      "76\n",
      "77\n",
      "fizz\n",
      "79\n",
      "buzz\n",
      "fizz\n",
      "82\n",
      "83\n",
      "fizz\n",
      "buzz\n",
      "86\n",
      "fizz\n",
      "88\n",
      "89\n",
      "fizzbuzz\n",
      "91\n",
      "92\n",
      "fizz\n",
      "94\n",
      "buzz\n",
      "fizz\n",
      "97\n",
      "98\n",
      "fizz\n",
      "buzz\n"
     ]
    }
   ],
   "source": [
    "for i in range(1,101):\n",
    "    \n",
    "    if (i%3==0) and (i%5==0):\n",
    "        print('fizzbuzz')\n",
    "    elif (i%5==0):\n",
    "        print('buzz')\n",
    "    elif (i%3==0):\n",
    "        print('fizz')\n",
    "    else:\n",
    "        print(i)"
   ]
  },
  {
   "cell_type": "markdown",
   "metadata": {},
   "source": [
    "---\n",
    "## <font color='red'> Exercise: Compound interest (again)\n",
    "    \n",
    "Let's go back to our compound interest formula:\n",
    "\n",
    "$$TV = PV(1+r)^n$$\n",
    "\n",
    "Where\n",
    "\n",
    "$TV$ is the final value of the investment\n",
    "\n",
    "$PV$ is the initial investment\n",
    "\n",
    "$r$ is the interest rate per year \n",
    "\n",
    "$n$ is the number of years\n",
    "\n",
    "Suppose we'd like to know for how many years we have to keep 100 pounds on a savings account to reach 200 pounds simply due to annual payment of interest at a rate of 5%. Write code using a ``while`` loop to show that this will take 15 years.\n",
    "\n",
    "---"
   ]
  },
  {
   "cell_type": "code",
   "execution_count": 84,
   "metadata": {
    "scrolled": true
   },
   "outputs": [
    {
     "name": "stdout",
     "output_type": "stream",
     "text": [
      "after  1  years the value of the investment will be  105.0\n",
      "after  2  years the value of the investment will be  110.25\n",
      "after  3  years the value of the investment will be  115.76250000000002\n",
      "after  4  years the value of the investment will be  121.55062500000003\n",
      "after  5  years the value of the investment will be  127.62815625000003\n",
      "after  6  years the value of the investment will be  134.00956406250003\n",
      "after  7  years the value of the investment will be  140.71004226562505\n",
      "after  8  years the value of the investment will be  147.7455443789063\n",
      "after  9  years the value of the investment will be  155.13282159785163\n",
      "after  10  years the value of the investment will be  162.8894626777442\n",
      "after  11  years the value of the investment will be  171.0339358116314\n",
      "after  12  years the value of the investment will be  179.585632602213\n",
      "after  13  years the value of the investment will be  188.56491423232367\n",
      "after  14  years the value of the investment will be  197.99315994393987\n",
      "after  15  years the value of the investment will be  207.89281794113688\n"
     ]
    }
   ],
   "source": [
    "PV = 100\n",
    "TV = 100\n",
    "n = 1\n",
    "r = 0.05\n",
    "\n",
    "while(TV<200):\n",
    "\n",
    "    TV = PV*(1+r)**n\n",
    "    print(\"after \",str(n),\" years the value of the investment will be \", str(TV))\n",
    "    n = n+1\n",
    "    "
   ]
  },
  {
   "cell_type": "markdown",
   "metadata": {},
   "source": [
    "---"
   ]
  }
 ],
 "metadata": {
  "colab": {
   "name": "intro_to_python.ipynb",
   "provenance": []
  },
  "kernelspec": {
   "display_name": "Python 3",
   "language": "python",
   "name": "python3"
  },
  "language_info": {
   "codemirror_mode": {
    "name": "ipython",
    "version": 3
   },
   "file_extension": ".py",
   "mimetype": "text/x-python",
   "name": "python",
   "nbconvert_exporter": "python",
   "pygments_lexer": "ipython3",
   "version": "3.7.4"
  }
 },
 "nbformat": 4,
 "nbformat_minor": 1
}
