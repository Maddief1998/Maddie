{
 "cells": [
  {
   "cell_type": "markdown",
   "metadata": {
    "colab_type": "text",
    "id": "88tCXKMAp2FX"
   },
   "source": [
    "# Barclays x GA: Python Day 5 Solutions\n",
    "---"
   ]
  },
  {
   "cell_type": "markdown",
   "metadata": {},
   "source": [
    "---\n",
    "## <font color='red'> Exercise: Microsoft share prices\n",
    "\n",
    "Now let's make an API request to AlphaVantage. Fill in the gap in the code below to make a GET request to AlphaVantage."
   ]
  },
  {
   "cell_type": "code",
   "execution_count": null,
   "metadata": {},
   "outputs": [],
   "source": [
    "alphavantage_request = requests.get('https://www.alphavantage.co/query?function=TIME_SERIES_INTRADAY&symbol=MSFT&interval=15min&apikey=demo')\n",
    "alphavantage_request\n"
   ]
  },
  {
   "cell_type": "markdown",
   "metadata": {},
   "source": [
    "An alternative, neater way to do this would be to define the URL as a variable instead of pasting it straight into `requests.get()`, like this:"
   ]
  },
  {
   "cell_type": "code",
   "execution_count": null,
   "metadata": {},
   "outputs": [],
   "source": [
    "microsoft_url = 'https://www.alphavantage.co/query?function=TIME_SERIES_INTRADAY&symbol=MSFT&interval=15min&apikey=demo'\n",
    "alphavantage_request = requests.get(microsoft_url)\n",
    "alphavantage_request"
   ]
  },
  {
   "cell_type": "markdown",
   "metadata": {},
   "source": [
    "Now, check the status code of the request:"
   ]
  },
  {
   "cell_type": "code",
   "execution_count": null,
   "metadata": {},
   "outputs": [],
   "source": [
    "alphavantage_request.status_code"
   ]
  },
  {
   "cell_type": "markdown",
   "metadata": {},
   "source": [
    "Next, create a variable that contains the JSON returned by AlphaVantage."
   ]
  },
  {
   "cell_type": "code",
   "execution_count": null,
   "metadata": {},
   "outputs": [],
   "source": [
    "alphavantage_json = alphavantage_request.json()"
   ]
  },
  {
   "cell_type": "markdown",
   "metadata": {},
   "source": [
    "We can see that the JSON consists of two top-level keys: `Meta Data` which provides summary information about the data, and `Time Series (5min)` which provides the actual share price information we're after.\n",
    "\n",
    "Use the correct key to retrieve `Time Series (5min)` from our `alphavantage_json` dictionary"
   ]
  },
  {
   "cell_type": "code",
   "execution_count": null,
   "metadata": {},
   "outputs": [],
   "source": [
    "alphavantage_json = alphavantage_json['Time Series (5min)']\n",
    "alphavantage_json\n"
   ]
  },
  {
   "cell_type": "markdown",
   "metadata": {},
   "source": [
    "Working with JSON and dictionaries is great because it's very standardised, but it's not a very pretty data format to work with. \n",
    "\n",
    "Ideally we want a way of working with data in Python that's as visually nice to work with as a table in Excel but less useless. \n",
    "\n",
    "This is where the ```pandas``` library comes in. This is the most widely used library for cleaning (sometimes called ***parsing*** or ***wrangling***) data in Python. \n",
    "\n",
    "```pandas``` introduces some new types, the most important of which is the ```DataFrame```.\n",
    "\n",
    "You can think of a ```DataFrame``` as being like a Python version of an Excel table. It's a way of storing data that lets us easily manipulate, clean and perform calculations with our data. \n",
    "\n",
    "Let's take a look at how easy it is to convert JSON/dictionaries into a ```DataFrame```."
   ]
  },
  {
   "cell_type": "code",
   "execution_count": null,
   "metadata": {},
   "outputs": [],
   "source": [
    "import pandas as pd"
   ]
  },
  {
   "cell_type": "code",
   "execution_count": null,
   "metadata": {},
   "outputs": [],
   "source": [
    "share_df = pd.DataFrame(alphavantage_json)\n",
    "share_df.head()"
   ]
  },
  {
   "cell_type": "markdown",
   "metadata": {},
   "source": [
    "We'll be learning a lot more about Pandas, but for now it's enough to know what a ```DataFrame``` is. The ```head()``` function shows us a preview of the first five rows of a ```DataFrame```.\n",
    "\n",
    "One last operation we perform on the ```DataFrame``` to flip the columns and rows around (it's more intuitive to have time along the vertical axis and features along the horizontal axis) is apply the ```transpose()``` method."
   ]
  },
  {
   "cell_type": "code",
   "execution_count": null,
   "metadata": {},
   "outputs": [],
   "source": [
    "share_df.transpose()"
   ]
  },
  {
   "cell_type": "markdown",
   "metadata": {},
   "source": [
    "---\n",
    "## <font color='red'> Exercise: Google share prices\n",
    "    \n",
    "Now you're going to sign up for an API key with AlphaVantage to give you more flexibility to make different API requests.\n",
    "\n",
    "First, **sign up for an API key** with AlphaVantage. Remember, you should treat an API key like a password, i.e. **never share or give it to anyone**.\n",
    "\n",
    "Now, read the AlphaVantage documentation for the **Weekly** share price endpoint here: https://www.alphavantage.co/documentation/#weekly. \n",
    "\n",
    "Read about the required and optional API paramaters, and try out the demo API request in your browser by clicking on this link: https://www.alphavantage.co/query?function=TIME_SERIES_WEEKLY&symbol=IBM&apikey=demo\n",
    "\n",
    "* Which company's share prices is this API request getting? \n",
    "\n",
    "\n",
    "* How would you change this API request to get data about Google's weekly share prices?\n",
    "\n",
    "\n",
    "* Plug the symbol for Google **and your API key** into the demo URL above, to make a URL that will get you data for Google's weekly share prices. Click on the URL and view it in your browser to make sure it's working as expected.\n",
    "\n",
    "\n",
    "* Then, fill in the code below to make the same API request in Python"
   ]
  },
  {
   "cell_type": "code",
   "execution_count": null,
   "metadata": {},
   "outputs": [],
   "source": [
    "google_share_price_url = 'https://www.alphavantage.co/query?function=TIME_SERIES_WEEKLY&symbol=GOOG&apikey='+'YOUR API KEY NEEDS TO GO AT THE END'\n"
   ]
  },
  {
   "cell_type": "code",
   "execution_count": null,
   "metadata": {},
   "outputs": [],
   "source": [
    "google_request = requests.get(google_share_price_url)"
   ]
  },
  {
   "cell_type": "markdown",
   "metadata": {},
   "source": [
    "Check the status code"
   ]
  },
  {
   "cell_type": "code",
   "execution_count": null,
   "metadata": {},
   "outputs": [],
   "source": [
    "google_request.status_code"
   ]
  },
  {
   "cell_type": "markdown",
   "metadata": {},
   "source": [
    "Create a variable that contains the JSON only"
   ]
  },
  {
   "cell_type": "code",
   "execution_count": null,
   "metadata": {},
   "outputs": [],
   "source": [
    "google_json = google_request.json()"
   ]
  },
  {
   "cell_type": "markdown",
   "metadata": {},
   "source": [
    "Use your dictionary skills to extract the time series data from the JSON, i.e. get rid of the metadata."
   ]
  },
  {
   "cell_type": "code",
   "execution_count": null,
   "metadata": {},
   "outputs": [],
   "source": [
    "google_json = google_json['Weekly Time Series']"
   ]
  },
  {
   "cell_type": "markdown",
   "metadata": {},
   "source": [
    "Convert the results to a `pandas DataFrame` and switch the rows and columns around."
   ]
  },
  {
   "cell_type": "code",
   "execution_count": null,
   "metadata": {},
   "outputs": [],
   "source": [
    "weekly_prices = pd.DataFrame(google_json).transpose()"
   ]
  },
  {
   "cell_type": "markdown",
   "metadata": {},
   "source": [
    "Preview the first 5 rows of the `DataFrame`"
   ]
  },
  {
   "cell_type": "code",
   "execution_count": null,
   "metadata": {},
   "outputs": [],
   "source": [
    "weekly_prices.head()"
   ]
  },
  {
   "cell_type": "code",
   "execution_count": null,
   "metadata": {},
   "outputs": [],
   "source": []
  },
  {
   "cell_type": "markdown",
   "metadata": {},
   "source": [
    "---\n",
    "## <font color='red'> Exercise: Google share prices\n",
    "\n",
    "Imagine you want to compare the performance of Apple, Google, Microsoft, IBM, Amazon, and Facebook. Write a Python script to answer the following questions using AlphaVantage:\n",
    "\n",
    "How many of the companies had an opening price above 500 yesterday?\n",
    "What were their symbols?\n",
    "What was the mean closing price across the companies yesterday?\n",
    "How many companies had a higher closing price yesterday than they did on the 1st June?\n",
    "\n",
    "\n",
    "Hint: AlphaVantage has a limit of 5 API calls per minute. Investigate how you can use the time library’s time.sleep() function to make sure you don’t go above the limit.\n",
    "\n",
    "\n",
    "**Caution: You will need to insert your own API key into the code below**"
   ]
  },
  {
   "cell_type": "code",
   "execution_count": 18,
   "metadata": {},
   "outputs": [
    {
     "data": {
      "text/plain": [
       "'https://www.alphavantage.co/query?function=TIME_SERIES_DAILY&symbol=IBM&apikey=INT9TI7PXS2SEXD0'"
      ]
     },
     "execution_count": 18,
     "metadata": {},
     "output_type": "execute_result"
    }
   ],
   "source": [
    "url"
   ]
  },
  {
   "cell_type": "code",
   "execution_count": 11,
   "metadata": {},
   "outputs": [],
   "source": [
    "import requests\n",
    "import time\n",
    "\n",
    "stock_symbols = ['AAPL','MSFT','AMZN','GOOG','FB','IBM']\n",
    "had_opening_price_over_500 = []\n",
    "closing_price_yesterday = []\n",
    "closing_price_1_june = []\n",
    "\n",
    "for stock in stock_symbols:\n",
    "    \n",
    "    time.sleep(20)\n",
    "    \n",
    "    url = 'https://www.alphavantage.co/query?function=TIME_SERIES_DAILY&symbol=' + stock + '&apikey='+'YOUR API KEY GOES HERE'\n",
    "    request_json = requests.get(url).json()['Time Series (Daily)']\n",
    "    \n",
    "    # Record whether yesterday's opening price was over 140\n",
    "    yesterday_opening = float(request_json['2020-07-20']['1. open'])\n",
    "    if yesterday_opening>500:\n",
    "        had_opening_price_over_500.append(stock)\n",
    "    \n",
    "    # Record yesterday's closing price\n",
    "    closing_price_yesterday.append(float(request_json['2020-07-20']['4. close']))\n",
    "    closing_price_1_june.append(float(request_json['2020-06-01']['4. close']))\n",
    "    "
   ]
  },
  {
   "cell_type": "code",
   "execution_count": 19,
   "metadata": {},
   "outputs": [
    {
     "data": {
      "text/plain": [
       "[393.43, 211.6, 3196.84, 1565.72, 245.42, 126.37]"
      ]
     },
     "execution_count": 19,
     "metadata": {},
     "output_type": "execute_result"
    }
   ],
   "source": [
    "closing_price_yesterday"
   ]
  },
  {
   "cell_type": "code",
   "execution_count": 20,
   "metadata": {},
   "outputs": [
    {
     "data": {
      "text/plain": [
       "[321.85, 182.83, 2471.04, 1431.82, 231.91, 124.89]"
      ]
     },
     "execution_count": 20,
     "metadata": {},
     "output_type": "execute_result"
    }
   ],
   "source": [
    "closing_price_1_june"
   ]
  },
  {
   "cell_type": "code",
   "execution_count": 14,
   "metadata": {
    "scrolled": true
   },
   "outputs": [
    {
     "data": {
      "text/plain": [
       "['AMZN', 'GOOG']"
      ]
     },
     "execution_count": 14,
     "metadata": {},
     "output_type": "execute_result"
    }
   ],
   "source": [
    "had_opening_price_over_500"
   ]
  },
  {
   "cell_type": "markdown",
   "metadata": {},
   "source": [
    "---"
   ]
  }
 ],
 "metadata": {
  "colab": {
   "name": "intro_to_python.ipynb",
   "provenance": []
  },
  "kernelspec": {
   "display_name": "Python 3",
   "language": "python",
   "name": "python3"
  },
  "language_info": {
   "codemirror_mode": {
    "name": "ipython",
    "version": 3
   },
   "file_extension": ".py",
   "mimetype": "text/x-python",
   "name": "python",
   "nbconvert_exporter": "python",
   "pygments_lexer": "ipython3",
   "version": "3.7.0"
  }
 },
 "nbformat": 4,
 "nbformat_minor": 1
}
