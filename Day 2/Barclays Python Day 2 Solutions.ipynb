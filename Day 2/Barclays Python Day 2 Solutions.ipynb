{
 "cells": [
  {
   "cell_type": "markdown",
   "metadata": {
    "colab_type": "text",
    "id": "88tCXKMAp2FX"
   },
   "source": [
    "#  Barclays x GA: Python Day 1 Solutions\n",
    "---"
   ]
  },
  {
   "cell_type": "markdown",
   "metadata": {},
   "source": [
    "---\n",
    "\n",
    "## <font color='red'> Exercise: Writing functions\n",
    "\n",
    "Let's write a function to calculate the final value of an investment that's accruing compound interest.\n",
    "\n",
    "This is described by the formula:\n",
    "\n",
    "$$TV = PV(1+r)^n$$\n",
    "\n",
    "Where\n",
    "\n",
    "$TV$ is the final value of the investment\n",
    "\n",
    "$PV$ is the initial investment\n",
    "\n",
    "$r$ is the interest rate per year \n",
    "\n",
    "$n$ is the number of years\n",
    "\n",
    "1. Write a function that computes the final value of an investment, given the initial investment, interest rate, and number of years."
   ]
  },
  {
   "cell_type": "code",
   "execution_count": 53,
   "metadata": {},
   "outputs": [],
   "source": [
    "def compound_interest(PV, r, n):\n",
    "    \n",
    "    TV = PV*(1+r)**n\n",
    "    \n",
    "    return TV"
   ]
  },
  {
   "cell_type": "markdown",
   "metadata": {},
   "source": [
    "2. Use your function to compute the final value of a £130 investment, assuming an interest rate of 3% over 5 years."
   ]
  },
  {
   "cell_type": "code",
   "execution_count": 55,
   "metadata": {},
   "outputs": [
    {
     "data": {
      "text/plain": [
       "150.705629659"
      ]
     },
     "execution_count": 55,
     "metadata": {},
     "output_type": "execute_result"
    }
   ],
   "source": [
    "TV = compound_interest(130,0.03,5)\n",
    "TV"
   ]
  },
  {
   "cell_type": "markdown",
   "metadata": {},
   "source": [
    "3. Write a function that computes the number of years needed for an investment reach a given multiple of its initial value, also given the interest rate. (**hint: you'll need to rearrange the formula to make $n$ the subject**, and you'll need the ``math`` library)"
   ]
  },
  {
   "cell_type": "markdown",
   "metadata": {},
   "source": [
    "We start by rearranging the formula:\n",
    "\n",
    "$$\\dfrac{TV}{PV} = (1+r)^n$$\n",
    "\n",
    "We can redefine $\\dfrac{TV}{PV}$ as our 'multiple'; that is, how many times greater the final value of our investment is compared to the initial value.\n",
    "\n",
    "$$multiple = (1+r)^n$$\n",
    "\n",
    "We can take logs of both sides to deal with $n$\n",
    "\n",
    "$$log\\:multiple = nlog(1+r)$$\n",
    "\n",
    "We can rearrange some more to make $n$ the subject:\n",
    "\n",
    "$$n=\\dfrac{log\\:multiple}{log(1+r)}$$\n",
    "\n",
    "Now we have our formula for the number of years needed for an investment to reach a given multiple of its initial value, we can code it up in Python: "
   ]
  },
  {
   "cell_type": "code",
   "execution_count": 56,
   "metadata": {},
   "outputs": [],
   "source": [
    "import math\n",
    "\n",
    "def get_years(multiple,r):\n",
    "    \n",
    "    n = math.log(multiple)/math.log(1+r)\n",
    "    \n",
    "    return n"
   ]
  },
  {
   "cell_type": "markdown",
   "metadata": {},
   "source": [
    "4. Use your function to work out how many years are needed for an investment to double in value, assuming an interest rate of 0.01%"
   ]
  },
  {
   "cell_type": "code",
   "execution_count": 57,
   "metadata": {},
   "outputs": [
    {
     "data": {
      "text/plain": [
       "69.66071689357483"
      ]
     },
     "execution_count": 57,
     "metadata": {},
     "output_type": "execute_result"
    }
   ],
   "source": [
    "n = get_years(2,0.01)\n",
    "n"
   ]
  },
  {
   "cell_type": "markdown",
   "metadata": {},
   "source": [
    "#### ---\n",
    "\n",
    "## <font color='red'> Exercise: Logical tests\n",
    "\n",
    "Predict what the outcomes of these logical tests will be, then run the cells to check your predictions."
   ]
  },
  {
   "cell_type": "code",
   "execution_count": 58,
   "metadata": {},
   "outputs": [
    {
     "data": {
      "text/plain": [
       "False"
      ]
     },
     "execution_count": 58,
     "metadata": {},
     "output_type": "execute_result"
    }
   ],
   "source": [
    "(6 <= 6) and (5 < 3)\n",
    "\n",
    "# True and False -> False"
   ]
  },
  {
   "cell_type": "code",
   "execution_count": 59,
   "metadata": {},
   "outputs": [
    {
     "data": {
      "text/plain": [
       "False"
      ]
     },
     "execution_count": 59,
     "metadata": {},
     "output_type": "execute_result"
    }
   ],
   "source": [
    "3 < 2 or 45 % 3 == 15\n",
    "\n",
    "# False or False -> False"
   ]
  },
  {
   "cell_type": "code",
   "execution_count": 61,
   "metadata": {},
   "outputs": [
    {
     "data": {
      "text/plain": [
       "False"
      ]
     },
     "execution_count": 61,
     "metadata": {},
     "output_type": "execute_result"
    }
   ],
   "source": [
    "60 - 45 / 5 + 10 == 1"
   ]
  },
  {
   "cell_type": "code",
   "execution_count": 62,
   "metadata": {},
   "outputs": [
    {
     "data": {
      "text/plain": [
       "True"
      ]
     },
     "execution_count": 62,
     "metadata": {},
     "output_type": "execute_result"
    }
   ],
   "source": [
    "(6 <= 6) or (5 < 3)\n",
    "\n",
    "# True or False -> True"
   ]
  },
  {
   "cell_type": "code",
   "execution_count": 63,
   "metadata": {},
   "outputs": [
    {
     "data": {
      "text/plain": [
       "True"
      ]
     },
     "execution_count": 63,
     "metadata": {},
     "output_type": "execute_result"
    }
   ],
   "source": [
    "(5 < 3) and (6 <= 6) or (5 != 6)\n",
    "\n",
    "# (False and True) or True -> True"
   ]
  },
  {
   "cell_type": "code",
   "execution_count": 65,
   "metadata": {},
   "outputs": [
    {
     "data": {
      "text/plain": [
       "True"
      ]
     },
     "execution_count": 65,
     "metadata": {},
     "output_type": "execute_result"
    }
   ],
   "source": [
    "not((5 < 3) and ((6 <= 6) or (5 != 6)))\n",
    "\n",
    "# False and (True or True) -> False\n",
    "# not False -> True"
   ]
  },
  {
   "cell_type": "markdown",
   "metadata": {},
   "source": [
    "---\n",
    "\n",
    "## <font color='red'> Exercise: Odd or even?\n",
    "    \n",
    "Write a function called ``odd_or_even``. It should take a single integer as an input.\n",
    "\n",
    "If the integer is even, the output of the function should be the string \"even!\" and if the integer is odd, the output should be \"odd!\"\n",
    "\n",
    "To do this, you will need to use the ``%`` operator.\n",
    "    "
   ]
  },
  {
   "cell_type": "code",
   "execution_count": 69,
   "metadata": {},
   "outputs": [],
   "source": [
    "def odd_or_even(number):\n",
    "    \n",
    "    if number%2==0:\n",
    "        print('even!')\n",
    "    else:\n",
    "        print('odd!')"
   ]
  },
  {
   "cell_type": "code",
   "execution_count": 70,
   "metadata": {},
   "outputs": [
    {
     "name": "stdout",
     "output_type": "stream",
     "text": [
      "odd!\n"
     ]
    }
   ],
   "source": [
    "odd_or_even(1)"
   ]
  },
  {
   "cell_type": "code",
   "execution_count": 71,
   "metadata": {},
   "outputs": [
    {
     "name": "stdout",
     "output_type": "stream",
     "text": [
      "even!\n"
     ]
    }
   ],
   "source": [
    "odd_or_even(4)"
   ]
  },
  {
   "cell_type": "markdown",
   "metadata": {},
   "source": [
    "---\n",
    "## <font color='red'> Exercise: FizzBuzz\n",
    "\n",
    "Use a ``for`` loop together with the ``range`` function to print all the whole numbers from 1 to 100. \n",
    "\n",
    "But for multiples of three print \"Fizz\" instead of the number and for the multiples of five print \"Buzz\". \n",
    "\n",
    "For numbers which are multiples of both three and five print \"FizzBuzz\".\n",
    "\n",
    "**For context**: The ``fizzbuzz`` question is well known as an exercise used in programming interviews. It was devised by Imran Ghory, and popularised by Jeff Atwood: \n",
    "\n",
    "https://imranontech.com/2007/01/24/using-fizzbuzz-to-find-developers-who-grok-coding/ \n",
    "\n",
    "---"
   ]
  },
  {
   "cell_type": "code",
   "execution_count": 72,
   "metadata": {
    "scrolled": true
   },
   "outputs": [
    {
     "name": "stdout",
     "output_type": "stream",
     "text": [
      "1\n",
      "2\n",
      "fizz\n",
      "4\n",
      "buzz\n",
      "fizz\n",
      "7\n",
      "8\n",
      "fizz\n",
      "buzz\n",
      "11\n",
      "fizz\n",
      "13\n",
      "14\n",
      "fizzbuzz\n",
      "16\n",
      "17\n",
      "fizz\n",
      "19\n",
      "buzz\n",
      "fizz\n",
      "22\n",
      "23\n",
      "fizz\n",
      "buzz\n",
      "26\n",
      "fizz\n",
      "28\n",
      "29\n",
      "fizzbuzz\n",
      "31\n",
      "32\n",
      "fizz\n",
      "34\n",
      "buzz\n",
      "fizz\n",
      "37\n",
      "38\n",
      "fizz\n",
      "buzz\n",
      "41\n",
      "fizz\n",
      "43\n",
      "44\n",
      "fizzbuzz\n",
      "46\n",
      "47\n",
      "fizz\n",
      "49\n",
      "buzz\n",
      "fizz\n",
      "52\n",
      "53\n",
      "fizz\n",
      "buzz\n",
      "56\n",
      "fizz\n",
      "58\n",
      "59\n",
      "fizzbuzz\n",
      "61\n",
      "62\n",
      "fizz\n",
      "64\n",
      "buzz\n",
      "fizz\n",
      "67\n",
      "68\n",
      "fizz\n",
      "buzz\n",
      "71\n",
      "fizz\n",
      "73\n",
      "74\n",
      "fizzbuzz\n",
      "76\n",
      "77\n",
      "fizz\n",
      "79\n",
      "buzz\n",
      "fizz\n",
      "82\n",
      "83\n",
      "fizz\n",
      "buzz\n",
      "86\n",
      "fizz\n",
      "88\n",
      "89\n",
      "fizzbuzz\n",
      "91\n",
      "92\n",
      "fizz\n",
      "94\n",
      "buzz\n",
      "fizz\n",
      "97\n",
      "98\n",
      "fizz\n",
      "buzz\n"
     ]
    }
   ],
   "source": [
    "for i in range(1,101):\n",
    "    \n",
    "    if (i%3==0) and (i%5==0):\n",
    "        print('fizzbuzz')\n",
    "    elif (i%5==0):\n",
    "        print('buzz')\n",
    "    elif (i%3==0):\n",
    "        print('fizz')\n",
    "    else:\n",
    "        print(i)"
   ]
  },
  {
   "cell_type": "markdown",
   "metadata": {},
   "source": [
    "---\n",
    "## <font color='red'> Exercise: Compound interest (again)\n",
    "    \n",
    "Let's go back to our compound interest formula:\n",
    "\n",
    "$$TV = PV(1+r)^n$$\n",
    "\n",
    "Where\n",
    "\n",
    "$TV$ is the final value of the investment\n",
    "\n",
    "$PV$ is the initial investment\n",
    "\n",
    "$r$ is the interest rate per year \n",
    "\n",
    "$n$ is the number of years\n",
    "\n",
    "Suppose we'd like to know for how many years we have to keep 100 pounds on a savings account to reach 200 pounds simply due to annual payment of interest at a rate of 5%. Write code using a ``while`` loop to show that this will take 15 years.\n",
    "\n",
    "---"
   ]
  },
  {
   "cell_type": "code",
   "execution_count": 84,
   "metadata": {
    "scrolled": true
   },
   "outputs": [
    {
     "name": "stdout",
     "output_type": "stream",
     "text": [
      "after  1  years the value of the investment will be  105.0\n",
      "after  2  years the value of the investment will be  110.25\n",
      "after  3  years the value of the investment will be  115.76250000000002\n",
      "after  4  years the value of the investment will be  121.55062500000003\n",
      "after  5  years the value of the investment will be  127.62815625000003\n",
      "after  6  years the value of the investment will be  134.00956406250003\n",
      "after  7  years the value of the investment will be  140.71004226562505\n",
      "after  8  years the value of the investment will be  147.7455443789063\n",
      "after  9  years the value of the investment will be  155.13282159785163\n",
      "after  10  years the value of the investment will be  162.8894626777442\n",
      "after  11  years the value of the investment will be  171.0339358116314\n",
      "after  12  years the value of the investment will be  179.585632602213\n",
      "after  13  years the value of the investment will be  188.56491423232367\n",
      "after  14  years the value of the investment will be  197.99315994393987\n",
      "after  15  years the value of the investment will be  207.89281794113688\n"
     ]
    }
   ],
   "source": [
    "PV = 100\n",
    "TV = 100\n",
    "n = 1\n",
    "r = 0.05\n",
    "\n",
    "while(TV<200):\n",
    "\n",
    "    TV = PV*(1+r)**n\n",
    "    print(\"after \",str(n),\" years the value of the investment will be \", str(TV))\n",
    "    n = n+1\n",
    "    "
   ]
  },
  {
   "cell_type": "markdown",
   "metadata": {},
   "source": [
    "---"
   ]
  },
  {
   "cell_type": "markdown",
   "metadata": {},
   "source": [
    "## <font color='red'> Exercise: Can I get a mortgage?\n",
    "\n",
    "Write a function to help house buyers understand if they can afford a mortgage for the property they want. \n",
    "\n",
    "The inputs to the function should be:\n",
    "* The buyers' total income\n",
    "* The price of the property they want to buy\n",
    "* The size of their deposit\n",
    "\n",
    "Assume that a bank will only grant them a mortgage under the following conditions:\n",
    "* The deposit must be at least 10% of the purchase price\n",
    "* The mortgage can be a maximum of 4.5x the buyers' total income \n",
    "\n",
    "The outputs from the function should be a string that explains whether the buyer can afford the property or not. "
   ]
  },
  {
   "cell_type": "code",
   "execution_count": 3,
   "metadata": {},
   "outputs": [],
   "source": [
    "def mortgage_calculator(buyer_salary,deposit_size,property_price):\n",
    "    \n",
    "    mortgage_size = property_price-deposit_size\n",
    "    deposit_percentage = 100*deposit_size/property_price\n",
    "    \n",
    "    if (deposit_percentage>=10) and (mortgage_size<=4.5*buyer_salary):\n",
    "        print('You can afford this property!')\n",
    "        \n",
    "    else:\n",
    "        print('Sorry, you can\\'t afford this property. Your deposit needs to be larger or your income needs to be higher')\n",
    "        \n",
    "\n",
    "    "
   ]
  },
  {
   "cell_type": "markdown",
   "metadata": {},
   "source": [
    "Once you've written your function, test it out on these case studies and record your results:\n",
    "\n",
    "1. Jamila earns £25,000 as a trainee teacher. She's found a flat in Newcastle she loves for £160,000. She has a £25,000 deposit saved up. Can she afford this flat?"
   ]
  },
  {
   "cell_type": "code",
   "execution_count": 4,
   "metadata": {},
   "outputs": [
    {
     "name": "stdout",
     "output_type": "stream",
     "text": [
      "Sorry, you can't afford this property. Your deposit needs to be larger or your income needs to be higher\n"
     ]
    }
   ],
   "source": [
    "mortgage_calculator(25000,25000,160000)"
   ]
  },
  {
   "cell_type": "markdown",
   "metadata": {},
   "source": [
    "2. James earns £60,000 as a software developer and Christopher earns £80,000 as a lawyer. They've found a flat in London for £500,000. With a £50,000 deposit, will they be able to afford this flat?"
   ]
  },
  {
   "cell_type": "code",
   "execution_count": null,
   "metadata": {},
   "outputs": [],
   "source": [
    "mortgage_calculator(140000,50000,500000)"
   ]
  },
  {
   "cell_type": "markdown",
   "metadata": {},
   "source": [
    "## <font color='red'> Exercise: Reading in pay gap data\n",
    "    \n",
    "\n",
    "---"
   ]
  },
  {
   "cell_type": "code",
   "execution_count": 1,
   "metadata": {},
   "outputs": [],
   "source": [
    "import pandas as pd\n",
    "\n",
    "pay_gap_2019_20 = pd.read_csv('./data/UK Gender Pay Gap Data - 2019 to 2020.csv',header=2)\n",
    "                              "
   ]
  },
  {
   "cell_type": "code",
   "execution_count": 3,
   "metadata": {},
   "outputs": [
    {
     "data": {
      "text/html": [
       "<div>\n",
       "<style scoped>\n",
       "    .dataframe tbody tr th:only-of-type {\n",
       "        vertical-align: middle;\n",
       "    }\n",
       "\n",
       "    .dataframe tbody tr th {\n",
       "        vertical-align: top;\n",
       "    }\n",
       "\n",
       "    .dataframe thead th {\n",
       "        text-align: right;\n",
       "    }\n",
       "</style>\n",
       "<table border=\"1\" class=\"dataframe\">\n",
       "  <thead>\n",
       "    <tr style=\"text-align: right;\">\n",
       "      <th></th>\n",
       "      <th>EmployerName</th>\n",
       "      <th>Address</th>\n",
       "      <th>CompanyNumber</th>\n",
       "      <th>SicCodes</th>\n",
       "      <th>DiffMeanHourlyPercent</th>\n",
       "      <th>DiffMedianHourlyPercent</th>\n",
       "      <th>DiffMeanBonusPercent</th>\n",
       "      <th>DiffMedianBonusPercent</th>\n",
       "      <th>MaleBonusPercent</th>\n",
       "      <th>FemaleBonusPercent</th>\n",
       "      <th>...</th>\n",
       "      <th>FemaleUpperMiddleQuartile</th>\n",
       "      <th>MaleTopQuartile</th>\n",
       "      <th>FemaleTopQuartile</th>\n",
       "      <th>CompanyLinkToGPGInfo</th>\n",
       "      <th>ResponsiblePerson</th>\n",
       "      <th>EmployerSize</th>\n",
       "      <th>CurrentName</th>\n",
       "      <th>SubmittedAfterTheDeadline</th>\n",
       "      <th>DueDate</th>\n",
       "      <th>DateSubmitted</th>\n",
       "    </tr>\n",
       "  </thead>\n",
       "  <tbody>\n",
       "    <tr>\n",
       "      <td>0</td>\n",
       "      <td>1ST CHOICE STAFF RECRUITMENT LIMITED</td>\n",
       "      <td>1ST CHOICE RECRUITMENT,\\r\\n8 St. Loyes Street,...</td>\n",
       "      <td>7972006</td>\n",
       "      <td>78109</td>\n",
       "      <td>-2.3</td>\n",
       "      <td>0.0</td>\n",
       "      <td>-114.8</td>\n",
       "      <td>-249.3</td>\n",
       "      <td>1.1</td>\n",
       "      <td>0.4</td>\n",
       "      <td>...</td>\n",
       "      <td>37.1</td>\n",
       "      <td>50.0</td>\n",
       "      <td>50.0</td>\n",
       "      <td>https://www.1stchoice.net/gender-pay-gap-repor...</td>\n",
       "      <td>Gill Knight (MD)</td>\n",
       "      <td>250 to 499</td>\n",
       "      <td>1ST CHOICE STAFF RECRUITMENT LIMITED</td>\n",
       "      <td>False</td>\n",
       "      <td>05/04/2020 00:00</td>\n",
       "      <td>24/01/2020 09:37</td>\n",
       "    </tr>\n",
       "    <tr>\n",
       "      <td>1</td>\n",
       "      <td>23.5 DEGREES LIMITED</td>\n",
       "      <td>Unit 3 Hedge End Retail Park, Charles Watts Wa...</td>\n",
       "      <td>8014079</td>\n",
       "      <td>56103</td>\n",
       "      <td>10.0</td>\n",
       "      <td>0.0</td>\n",
       "      <td>79.0</td>\n",
       "      <td>35.0</td>\n",
       "      <td>4.0</td>\n",
       "      <td>2.0</td>\n",
       "      <td>...</td>\n",
       "      <td>70.0</td>\n",
       "      <td>31.0</td>\n",
       "      <td>69.0</td>\n",
       "      <td>https://www.23-5degrees.com/gender-pay-gap</td>\n",
       "      <td>Luca Contardo (CFO)</td>\n",
       "      <td>500 to 999</td>\n",
       "      <td>23.5 DEGREES LIMITED</td>\n",
       "      <td>False</td>\n",
       "      <td>05/04/2020 00:00</td>\n",
       "      <td>11/11/2019 15:33</td>\n",
       "    </tr>\n",
       "    <tr>\n",
       "      <td>2</td>\n",
       "      <td>A. &amp; B. GLASS COMPANY LIMITED</td>\n",
       "      <td>Addison Road,\\r\\nChilton Industrial Estate,\\r\\...</td>\n",
       "      <td>1543721</td>\n",
       "      <td>43342</td>\n",
       "      <td>19.0</td>\n",
       "      <td>4.0</td>\n",
       "      <td>42.0</td>\n",
       "      <td>45.0</td>\n",
       "      <td>70.0</td>\n",
       "      <td>41.0</td>\n",
       "      <td>...</td>\n",
       "      <td>24.0</td>\n",
       "      <td>90.0</td>\n",
       "      <td>10.0</td>\n",
       "      <td>NaN</td>\n",
       "      <td>PHILIP FARNELL (GROUP HR MANAGER)</td>\n",
       "      <td>250 to 499</td>\n",
       "      <td>A. &amp; B. GLASS COMPANY LIMITED</td>\n",
       "      <td>False</td>\n",
       "      <td>05/04/2020 00:00</td>\n",
       "      <td>20/05/2019 16:34</td>\n",
       "    </tr>\n",
       "    <tr>\n",
       "      <td>3</td>\n",
       "      <td>A.B.M. CATERING LIMITED</td>\n",
       "      <td>Eagle Court,\\r\\n63-67 Saltisford,\\r\\nWarwick,\\...</td>\n",
       "      <td>4168334</td>\n",
       "      <td>56290,\\r\\n70100</td>\n",
       "      <td>21.7</td>\n",
       "      <td>16.5</td>\n",
       "      <td>-70.3</td>\n",
       "      <td>61.5</td>\n",
       "      <td>15.1</td>\n",
       "      <td>6.5</td>\n",
       "      <td>...</td>\n",
       "      <td>87.8</td>\n",
       "      <td>33.9</td>\n",
       "      <td>66.1</td>\n",
       "      <td>http://www.abmcatering.co.uk/wp-content/upload...</td>\n",
       "      <td>Sue Hill (Finance &amp; HR Director - Operations)</td>\n",
       "      <td>1000 to 4999</td>\n",
       "      <td>A.B.M. CATERING LIMITED</td>\n",
       "      <td>False</td>\n",
       "      <td>05/04/2020 00:00</td>\n",
       "      <td>29/01/2020 12:20</td>\n",
       "    </tr>\n",
       "    <tr>\n",
       "      <td>4</td>\n",
       "      <td>A.G. BARR P.L.C.</td>\n",
       "      <td>Westfield House,\\r\\n4 Mollins Road,\\r\\nCumbern...</td>\n",
       "      <td>SC005653</td>\n",
       "      <td>11070</td>\n",
       "      <td>2.3</td>\n",
       "      <td>-6.8</td>\n",
       "      <td>41.9</td>\n",
       "      <td>-3.0</td>\n",
       "      <td>93.1</td>\n",
       "      <td>94.3</td>\n",
       "      <td>...</td>\n",
       "      <td>24.0</td>\n",
       "      <td>65.0</td>\n",
       "      <td>35.0</td>\n",
       "      <td>https://www.agbarr.co.uk/responsibility/we-act...</td>\n",
       "      <td>Doug Brown (Head of Human Resources)</td>\n",
       "      <td>500 to 999</td>\n",
       "      <td>A.G. BARR P.L.C.</td>\n",
       "      <td>False</td>\n",
       "      <td>05/04/2020 00:00</td>\n",
       "      <td>23/01/2020 11:57</td>\n",
       "    </tr>\n",
       "  </tbody>\n",
       "</table>\n",
       "<p>5 rows × 25 columns</p>\n",
       "</div>"
      ],
      "text/plain": [
       "                           EmployerName  \\\n",
       "0  1ST CHOICE STAFF RECRUITMENT LIMITED   \n",
       "1                  23.5 DEGREES LIMITED   \n",
       "2         A. & B. GLASS COMPANY LIMITED   \n",
       "3               A.B.M. CATERING LIMITED   \n",
       "4                      A.G. BARR P.L.C.   \n",
       "\n",
       "                                             Address CompanyNumber  \\\n",
       "0  1ST CHOICE RECRUITMENT,\\r\\n8 St. Loyes Street,...       7972006   \n",
       "1  Unit 3 Hedge End Retail Park, Charles Watts Wa...       8014079   \n",
       "2  Addison Road,\\r\\nChilton Industrial Estate,\\r\\...       1543721   \n",
       "3  Eagle Court,\\r\\n63-67 Saltisford,\\r\\nWarwick,\\...       4168334   \n",
       "4  Westfield House,\\r\\n4 Mollins Road,\\r\\nCumbern...      SC005653   \n",
       "\n",
       "          SicCodes  DiffMeanHourlyPercent  DiffMedianHourlyPercent  \\\n",
       "0            78109                   -2.3                      0.0   \n",
       "1            56103                   10.0                      0.0   \n",
       "2            43342                   19.0                      4.0   \n",
       "3  56290,\\r\\n70100                   21.7                     16.5   \n",
       "4            11070                    2.3                     -6.8   \n",
       "\n",
       "   DiffMeanBonusPercent  DiffMedianBonusPercent  MaleBonusPercent  \\\n",
       "0                -114.8                  -249.3               1.1   \n",
       "1                  79.0                    35.0               4.0   \n",
       "2                  42.0                    45.0              70.0   \n",
       "3                 -70.3                    61.5              15.1   \n",
       "4                  41.9                    -3.0              93.1   \n",
       "\n",
       "   FemaleBonusPercent  ...  FemaleUpperMiddleQuartile  MaleTopQuartile  \\\n",
       "0                 0.4  ...                       37.1             50.0   \n",
       "1                 2.0  ...                       70.0             31.0   \n",
       "2                41.0  ...                       24.0             90.0   \n",
       "3                 6.5  ...                       87.8             33.9   \n",
       "4                94.3  ...                       24.0             65.0   \n",
       "\n",
       "   FemaleTopQuartile                               CompanyLinkToGPGInfo  \\\n",
       "0               50.0  https://www.1stchoice.net/gender-pay-gap-repor...   \n",
       "1               69.0         https://www.23-5degrees.com/gender-pay-gap   \n",
       "2               10.0                                                NaN   \n",
       "3               66.1  http://www.abmcatering.co.uk/wp-content/upload...   \n",
       "4               35.0  https://www.agbarr.co.uk/responsibility/we-act...   \n",
       "\n",
       "                               ResponsiblePerson  EmployerSize  \\\n",
       "0                               Gill Knight (MD)    250 to 499   \n",
       "1                            Luca Contardo (CFO)    500 to 999   \n",
       "2              PHILIP FARNELL (GROUP HR MANAGER)    250 to 499   \n",
       "3  Sue Hill (Finance & HR Director - Operations)  1000 to 4999   \n",
       "4           Doug Brown (Head of Human Resources)    500 to 999   \n",
       "\n",
       "                            CurrentName  SubmittedAfterTheDeadline  \\\n",
       "0  1ST CHOICE STAFF RECRUITMENT LIMITED                      False   \n",
       "1                  23.5 DEGREES LIMITED                      False   \n",
       "2         A. & B. GLASS COMPANY LIMITED                      False   \n",
       "3               A.B.M. CATERING LIMITED                      False   \n",
       "4                      A.G. BARR P.L.C.                      False   \n",
       "\n",
       "            DueDate     DateSubmitted  \n",
       "0  05/04/2020 00:00  24/01/2020 09:37  \n",
       "1  05/04/2020 00:00  11/11/2019 15:33  \n",
       "2  05/04/2020 00:00  20/05/2019 16:34  \n",
       "3  05/04/2020 00:00  29/01/2020 12:20  \n",
       "4  05/04/2020 00:00  23/01/2020 11:57  \n",
       "\n",
       "[5 rows x 25 columns]"
      ]
     },
     "execution_count": 3,
     "metadata": {},
     "output_type": "execute_result"
    }
   ],
   "source": [
    "pay_gap_2019_20.head()"
   ]
  },
  {
   "cell_type": "code",
   "execution_count": 4,
   "metadata": {},
   "outputs": [
    {
     "data": {
      "text/plain": [
       "(992, 25)"
      ]
     },
     "execution_count": 4,
     "metadata": {},
     "output_type": "execute_result"
    }
   ],
   "source": [
    "pay_gap_2019_20.shape"
   ]
  },
  {
   "cell_type": "markdown",
   "metadata": {},
   "source": [
    "---\n",
    "## <font color='red'> Exercise: Column calculations\n",
    "    \n",
    "1. Figure out how to use the `mean()` `DataFrame` method to work out the mean value of the \n",
    "`DiffMeanHourlyPercent` column.\n",
    "\n",
    "\n",
    "2. Drop the `FemaleTopQuartile` column from the `DataFrame`.\n"
   ]
  },
  {
   "cell_type": "code",
   "execution_count": null,
   "metadata": {},
   "outputs": [],
   "source": [
    "pay_gap_2019_20['DiffMeanHourlyPercent'].mean()"
   ]
  },
  {
   "cell_type": "code",
   "execution_count": null,
   "metadata": {},
   "outputs": [],
   "source": [
    "pay_gap_2019_20.drop(columns=['FemaleTopQuartile'],inplace=True)"
   ]
  },
  {
   "cell_type": "markdown",
   "metadata": {},
   "source": [
    "---\n",
    "## <font color='red'> Exercise: Filtering rows and columns\n",
    "    \n",
    "1. Select companies where the median hourly pay gap is in favour of women, i.e. where `DiffMedianHourlyPercent` is **negative**\n",
    "\n",
    "\n",
    "2. Select companies that have 'college' in the name\n",
    "\n",
    "\n",
    "3. Select companies that have a mean hourly pay gap greater than 10%, i.e. where `DiffMeanHourlyPercent` is greater than 10\n",
    "\n"
   ]
  },
  {
   "cell_type": "code",
   "execution_count": null,
   "metadata": {},
   "outputs": [],
   "source": [
    "pay_gap_2019_20[pay_gap_2019_20['DiffMedianHourlyPercent']<0]"
   ]
  },
  {
   "cell_type": "code",
   "execution_count": null,
   "metadata": {},
   "outputs": [],
   "source": [
    "pay_gap_2019_20['EmployerName'].str.lower().str.contains('college')"
   ]
  },
  {
   "cell_type": "code",
   "execution_count": null,
   "metadata": {},
   "outputs": [],
   "source": [
    "pay_gap_2019_20[pay_gap_2019_20['DiffMeanHourlyPercent']>10]"
   ]
  },
  {
   "cell_type": "markdown",
   "metadata": {},
   "source": [
    "---\n",
    "## <font color='red'> Exercise: Sorting data\n",
    "    \n",
    "1. Which company has the lowest median hourly pay gap?\n",
    "\n",
    "\n",
    "2. Which companies have the top 5 highest mean hourly pay gap?\n",
    "\n"
   ]
  },
  {
   "cell_type": "code",
   "execution_count": null,
   "metadata": {},
   "outputs": [],
   "source": [
    "pay_gap_2019_20.sort_values(by='DiffMedianHourlyPercent',ascending=True)"
   ]
  },
  {
   "cell_type": "code",
   "execution_count": null,
   "metadata": {},
   "outputs": [],
   "source": [
    "pay_gap_2019_20.sort_values(by='DiffMeanHourlyPercent',ascending=False)"
   ]
  }
 ],
 "metadata": {
  "colab": {
   "name": "intro_to_python.ipynb",
   "provenance": []
  },
  "kernelspec": {
   "display_name": "Python 3",
   "language": "python",
   "name": "python3"
  },
  "language_info": {
   "codemirror_mode": {
    "name": "ipython",
    "version": 3
   },
   "file_extension": ".py",
   "mimetype": "text/x-python",
   "name": "python",
   "nbconvert_exporter": "python",
   "pygments_lexer": "ipython3",
   "version": "3.7.4"
  }
 },
 "nbformat": 4,
 "nbformat_minor": 1
}
